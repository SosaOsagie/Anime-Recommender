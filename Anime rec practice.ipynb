{
 "cells": [
  {
   "cell_type": "code",
   "execution_count": 25,
   "id": "befcea08",
   "metadata": {},
   "outputs": [],
   "source": [
    "import numpy as np\n",
    "import pandas as pd\n",
    "import matplotlib.pyplot as plt\n",
    "import seaborn as sns\n",
    "\n",
    "import warnings\n",
    "warnings.filterwarnings('ignore')"
   ]
  },
  {
   "cell_type": "markdown",
   "id": "3935e10e",
   "metadata": {},
   "source": [
    "# DATASET EXPLORATION"
   ]
  },
  {
   "cell_type": "code",
   "execution_count": 26,
   "id": "771413a8",
   "metadata": {},
   "outputs": [],
   "source": [
    "anime_info = pd.read_csv('anime.csv')\n",
    "ratings = pd.read_csv('rating.csv')"
   ]
  },
  {
   "cell_type": "code",
   "execution_count": 27,
   "id": "7907a7ee",
   "metadata": {},
   "outputs": [
    {
     "data": {
      "text/html": [
       "<div>\n",
       "<style scoped>\n",
       "    .dataframe tbody tr th:only-of-type {\n",
       "        vertical-align: middle;\n",
       "    }\n",
       "\n",
       "    .dataframe tbody tr th {\n",
       "        vertical-align: top;\n",
       "    }\n",
       "\n",
       "    .dataframe thead th {\n",
       "        text-align: right;\n",
       "    }\n",
       "</style>\n",
       "<table border=\"1\" class=\"dataframe\">\n",
       "  <thead>\n",
       "    <tr style=\"text-align: right;\">\n",
       "      <th></th>\n",
       "      <th>anime_id</th>\n",
       "      <th>name</th>\n",
       "      <th>genre</th>\n",
       "      <th>type</th>\n",
       "      <th>episodes</th>\n",
       "      <th>rating</th>\n",
       "      <th>members</th>\n",
       "    </tr>\n",
       "  </thead>\n",
       "  <tbody>\n",
       "    <tr>\n",
       "      <th>0</th>\n",
       "      <td>32281</td>\n",
       "      <td>Kimi no Na wa.</td>\n",
       "      <td>Drama, Romance, School, Supernatural</td>\n",
       "      <td>Movie</td>\n",
       "      <td>1</td>\n",
       "      <td>9.37</td>\n",
       "      <td>200630</td>\n",
       "    </tr>\n",
       "    <tr>\n",
       "      <th>1</th>\n",
       "      <td>5114</td>\n",
       "      <td>Fullmetal Alchemist: Brotherhood</td>\n",
       "      <td>Action, Adventure, Drama, Fantasy, Magic, Mili...</td>\n",
       "      <td>TV</td>\n",
       "      <td>64</td>\n",
       "      <td>9.26</td>\n",
       "      <td>793665</td>\n",
       "    </tr>\n",
       "    <tr>\n",
       "      <th>2</th>\n",
       "      <td>28977</td>\n",
       "      <td>Gintama°</td>\n",
       "      <td>Action, Comedy, Historical, Parody, Samurai, S...</td>\n",
       "      <td>TV</td>\n",
       "      <td>51</td>\n",
       "      <td>9.25</td>\n",
       "      <td>114262</td>\n",
       "    </tr>\n",
       "    <tr>\n",
       "      <th>3</th>\n",
       "      <td>9253</td>\n",
       "      <td>Steins;Gate</td>\n",
       "      <td>Sci-Fi, Thriller</td>\n",
       "      <td>TV</td>\n",
       "      <td>24</td>\n",
       "      <td>9.17</td>\n",
       "      <td>673572</td>\n",
       "    </tr>\n",
       "    <tr>\n",
       "      <th>4</th>\n",
       "      <td>9969</td>\n",
       "      <td>Gintama&amp;#039;</td>\n",
       "      <td>Action, Comedy, Historical, Parody, Samurai, S...</td>\n",
       "      <td>TV</td>\n",
       "      <td>51</td>\n",
       "      <td>9.16</td>\n",
       "      <td>151266</td>\n",
       "    </tr>\n",
       "  </tbody>\n",
       "</table>\n",
       "</div>"
      ],
      "text/plain": [
       "   anime_id                              name  \\\n",
       "0     32281                    Kimi no Na wa.   \n",
       "1      5114  Fullmetal Alchemist: Brotherhood   \n",
       "2     28977                          Gintama°   \n",
       "3      9253                       Steins;Gate   \n",
       "4      9969                     Gintama&#039;   \n",
       "\n",
       "                                               genre   type episodes  rating  \\\n",
       "0               Drama, Romance, School, Supernatural  Movie        1    9.37   \n",
       "1  Action, Adventure, Drama, Fantasy, Magic, Mili...     TV       64    9.26   \n",
       "2  Action, Comedy, Historical, Parody, Samurai, S...     TV       51    9.25   \n",
       "3                                   Sci-Fi, Thriller     TV       24    9.17   \n",
       "4  Action, Comedy, Historical, Parody, Samurai, S...     TV       51    9.16   \n",
       "\n",
       "   members  \n",
       "0   200630  \n",
       "1   793665  \n",
       "2   114262  \n",
       "3   673572  \n",
       "4   151266  "
      ]
     },
     "execution_count": 27,
     "metadata": {},
     "output_type": "execute_result"
    }
   ],
   "source": [
    "anime_info.head()\n",
    "\n",
    "#this data set contains the following:\n",
    "                #anime_id : myanimelist.net's unique id identifying an anime.\n",
    "                #name : full name of anime.\n",
    "                #genre : comma separated list of genres for this anime.\n",
    "                #type : movie, TV, OVA, etc.\n",
    "                #episodes : how many episodes in this show. (1 if movie).\n",
    "                #rating : average rating out of 10 for this anime.\n",
    "                #members : number of community members that are in this anime's \"group\".\n"
   ]
  },
  {
   "cell_type": "code",
   "execution_count": 28,
   "id": "fdca864a",
   "metadata": {},
   "outputs": [
    {
     "name": "stdout",
     "output_type": "stream",
     "text": [
      "Shape of the anime dataset: (12294, 7)\n"
     ]
    }
   ],
   "source": [
    "print(f\"Shape of the anime dataset: {anime_info.shape}\")"
   ]
  },
  {
   "cell_type": "code",
   "execution_count": 29,
   "id": "93870553",
   "metadata": {},
   "outputs": [
    {
     "name": "stdout",
     "output_type": "stream",
     "text": [
      "Informations About Anime Dataset :\n",
      "\n",
      "<class 'pandas.core.frame.DataFrame'>\n",
      "RangeIndex: 12294 entries, 0 to 12293\n",
      "Data columns (total 7 columns):\n",
      " #   Column    Non-Null Count  Dtype  \n",
      "---  ------    --------------  -----  \n",
      " 0   anime_id  12294 non-null  int64  \n",
      " 1   name      12294 non-null  object \n",
      " 2   genre     12232 non-null  object \n",
      " 3   type      12269 non-null  object \n",
      " 4   episodes  12294 non-null  object \n",
      " 5   rating    12064 non-null  float64\n",
      " 6   members   12294 non-null  int64  \n",
      "dtypes: float64(1), int64(2), object(4)\n",
      "memory usage: 672.5+ KB\n",
      "None\n"
     ]
    }
   ],
   "source": [
    "print(f\"Informations About Anime Dataset :\\n\")\n",
    "print(anime_info.info())\n",
    "\n",
    "#this contains information such as variable types, memory usage, etc."
   ]
  },
  {
   "cell_type": "code",
   "execution_count": 30,
   "id": "876a3230",
   "metadata": {},
   "outputs": [
    {
     "data": {
      "text/html": [
       "<div>\n",
       "<style scoped>\n",
       "    .dataframe tbody tr th:only-of-type {\n",
       "        vertical-align: middle;\n",
       "    }\n",
       "\n",
       "    .dataframe tbody tr th {\n",
       "        vertical-align: top;\n",
       "    }\n",
       "\n",
       "    .dataframe thead th {\n",
       "        text-align: right;\n",
       "    }\n",
       "</style>\n",
       "<table border=\"1\" class=\"dataframe\">\n",
       "  <thead>\n",
       "    <tr style=\"text-align: right;\">\n",
       "      <th></th>\n",
       "      <th>user_id</th>\n",
       "      <th>anime_id</th>\n",
       "      <th>rating</th>\n",
       "    </tr>\n",
       "  </thead>\n",
       "  <tbody>\n",
       "    <tr>\n",
       "      <th>0</th>\n",
       "      <td>1</td>\n",
       "      <td>20</td>\n",
       "      <td>-1</td>\n",
       "    </tr>\n",
       "    <tr>\n",
       "      <th>1</th>\n",
       "      <td>1</td>\n",
       "      <td>24</td>\n",
       "      <td>-1</td>\n",
       "    </tr>\n",
       "    <tr>\n",
       "      <th>2</th>\n",
       "      <td>1</td>\n",
       "      <td>79</td>\n",
       "      <td>-1</td>\n",
       "    </tr>\n",
       "    <tr>\n",
       "      <th>3</th>\n",
       "      <td>1</td>\n",
       "      <td>226</td>\n",
       "      <td>-1</td>\n",
       "    </tr>\n",
       "    <tr>\n",
       "      <th>4</th>\n",
       "      <td>1</td>\n",
       "      <td>241</td>\n",
       "      <td>-1</td>\n",
       "    </tr>\n",
       "  </tbody>\n",
       "</table>\n",
       "</div>"
      ],
      "text/plain": [
       "   user_id  anime_id  rating\n",
       "0        1        20      -1\n",
       "1        1        24      -1\n",
       "2        1        79      -1\n",
       "3        1       226      -1\n",
       "4        1       241      -1"
      ]
     },
     "execution_count": 30,
     "metadata": {},
     "output_type": "execute_result"
    }
   ],
   "source": [
    "ratings.head()\n",
    "\n",
    "#this dataset contains the following:\n",
    "#                   user_id : non identifiable randomly generated user id.\n",
    "#                   anime_id : the anime that this user has rated.\n",
    "#                   rating : rating out of 10 this user has assigned (-1 if the user watched it but didn't assign a rating)."
   ]
  },
  {
   "cell_type": "code",
   "execution_count": 31,
   "id": "59e2dc99",
   "metadata": {},
   "outputs": [
    {
     "name": "stdout",
     "output_type": "stream",
     "text": [
      "Shape of the ratings dataset: (7813737, 3)\n"
     ]
    }
   ],
   "source": [
    "print(f\"Shape of the ratings dataset: {ratings.shape}\")\n",
    "#the ratings dataset contains 7813737 rows and 3 columns"
   ]
  },
  {
   "cell_type": "code",
   "execution_count": 32,
   "id": "490137e1",
   "metadata": {},
   "outputs": [
    {
     "name": "stdout",
     "output_type": "stream",
     "text": [
      "Informations About Ratings Dataset :\n",
      "\n",
      "<class 'pandas.core.frame.DataFrame'>\n",
      "RangeIndex: 7813737 entries, 0 to 7813736\n",
      "Data columns (total 3 columns):\n",
      " #   Column    Dtype\n",
      "---  ------    -----\n",
      " 0   user_id   int64\n",
      " 1   anime_id  int64\n",
      " 2   rating    int64\n",
      "dtypes: int64(3)\n",
      "memory usage: 178.8 MB\n",
      "None\n"
     ]
    }
   ],
   "source": [
    "print(f\"Informations About Ratings Dataset :\\n\")\n",
    "print(ratings.info())"
   ]
  },
  {
   "cell_type": "markdown",
   "id": "b071a678",
   "metadata": {},
   "source": [
    "# CLEANING THE ANIME_INFO DATASET "
   ]
  },
  {
   "cell_type": "code",
   "execution_count": 33,
   "id": "c8901551",
   "metadata": {},
   "outputs": [
    {
     "name": "stdout",
     "output_type": "stream",
     "text": [
      "Summary of The Anime Dataset :\n"
     ]
    },
    {
     "data": {
      "text/html": [
       "<style type=\"text/css\">\n",
       "#T_ed9d4_row0_col0, #T_ed9d4_row0_col1, #T_ed9d4_row0_col2, #T_ed9d4_row0_col3, #T_ed9d4_row0_col4, #T_ed9d4_row0_col5, #T_ed9d4_row0_col6, #T_ed9d4_row0_col7, #T_ed9d4_row1_col0, #T_ed9d4_row1_col1, #T_ed9d4_row1_col2, #T_ed9d4_row1_col3, #T_ed9d4_row1_col4, #T_ed9d4_row1_col5, #T_ed9d4_row1_col6, #T_ed9d4_row1_col7, #T_ed9d4_row2_col0, #T_ed9d4_row2_col1, #T_ed9d4_row2_col2, #T_ed9d4_row2_col3, #T_ed9d4_row2_col4, #T_ed9d4_row2_col5, #T_ed9d4_row2_col6, #T_ed9d4_row2_col7 {\n",
       "  color: blue;\n",
       "  border: 1.5px  solid black;\n",
       "}\n",
       "</style>\n",
       "<table id=\"T_ed9d4\">\n",
       "  <thead>\n",
       "    <tr>\n",
       "      <th class=\"blank level0\" >&nbsp;</th>\n",
       "      <th id=\"T_ed9d4_level0_col0\" class=\"col_heading level0 col0\" >count</th>\n",
       "      <th id=\"T_ed9d4_level0_col1\" class=\"col_heading level0 col1\" >mean</th>\n",
       "      <th id=\"T_ed9d4_level0_col2\" class=\"col_heading level0 col2\" >std</th>\n",
       "      <th id=\"T_ed9d4_level0_col3\" class=\"col_heading level0 col3\" >min</th>\n",
       "      <th id=\"T_ed9d4_level0_col4\" class=\"col_heading level0 col4\" >25%</th>\n",
       "      <th id=\"T_ed9d4_level0_col5\" class=\"col_heading level0 col5\" >50%</th>\n",
       "      <th id=\"T_ed9d4_level0_col6\" class=\"col_heading level0 col6\" >75%</th>\n",
       "      <th id=\"T_ed9d4_level0_col7\" class=\"col_heading level0 col7\" >max</th>\n",
       "    </tr>\n",
       "  </thead>\n",
       "  <tbody>\n",
       "    <tr>\n",
       "      <th id=\"T_ed9d4_level0_row0\" class=\"row_heading level0 row0\" >anime_id</th>\n",
       "      <td id=\"T_ed9d4_row0_col0\" class=\"data row0 col0\" >12294.000000</td>\n",
       "      <td id=\"T_ed9d4_row0_col1\" class=\"data row0 col1\" >14058.221653</td>\n",
       "      <td id=\"T_ed9d4_row0_col2\" class=\"data row0 col2\" >11455.294701</td>\n",
       "      <td id=\"T_ed9d4_row0_col3\" class=\"data row0 col3\" >1.000000</td>\n",
       "      <td id=\"T_ed9d4_row0_col4\" class=\"data row0 col4\" >3484.250000</td>\n",
       "      <td id=\"T_ed9d4_row0_col5\" class=\"data row0 col5\" >10260.500000</td>\n",
       "      <td id=\"T_ed9d4_row0_col6\" class=\"data row0 col6\" >24794.500000</td>\n",
       "      <td id=\"T_ed9d4_row0_col7\" class=\"data row0 col7\" >34527.000000</td>\n",
       "    </tr>\n",
       "    <tr>\n",
       "      <th id=\"T_ed9d4_level0_row1\" class=\"row_heading level0 row1\" >rating</th>\n",
       "      <td id=\"T_ed9d4_row1_col0\" class=\"data row1 col0\" >12064.000000</td>\n",
       "      <td id=\"T_ed9d4_row1_col1\" class=\"data row1 col1\" >6.473902</td>\n",
       "      <td id=\"T_ed9d4_row1_col2\" class=\"data row1 col2\" >1.026746</td>\n",
       "      <td id=\"T_ed9d4_row1_col3\" class=\"data row1 col3\" >1.670000</td>\n",
       "      <td id=\"T_ed9d4_row1_col4\" class=\"data row1 col4\" >5.880000</td>\n",
       "      <td id=\"T_ed9d4_row1_col5\" class=\"data row1 col5\" >6.570000</td>\n",
       "      <td id=\"T_ed9d4_row1_col6\" class=\"data row1 col6\" >7.180000</td>\n",
       "      <td id=\"T_ed9d4_row1_col7\" class=\"data row1 col7\" >10.000000</td>\n",
       "    </tr>\n",
       "    <tr>\n",
       "      <th id=\"T_ed9d4_level0_row2\" class=\"row_heading level0 row2\" >members</th>\n",
       "      <td id=\"T_ed9d4_row2_col0\" class=\"data row2 col0\" >12294.000000</td>\n",
       "      <td id=\"T_ed9d4_row2_col1\" class=\"data row2 col1\" >18071.338864</td>\n",
       "      <td id=\"T_ed9d4_row2_col2\" class=\"data row2 col2\" >54820.676925</td>\n",
       "      <td id=\"T_ed9d4_row2_col3\" class=\"data row2 col3\" >5.000000</td>\n",
       "      <td id=\"T_ed9d4_row2_col4\" class=\"data row2 col4\" >225.000000</td>\n",
       "      <td id=\"T_ed9d4_row2_col5\" class=\"data row2 col5\" >1550.000000</td>\n",
       "      <td id=\"T_ed9d4_row2_col6\" class=\"data row2 col6\" >9437.000000</td>\n",
       "      <td id=\"T_ed9d4_row2_col7\" class=\"data row2 col7\" >1013917.000000</td>\n",
       "    </tr>\n",
       "  </tbody>\n",
       "</table>\n"
      ],
      "text/plain": [
       "<pandas.io.formats.style.Styler at 0x1d0069378b0>"
      ]
     },
     "execution_count": 33,
     "metadata": {},
     "output_type": "execute_result"
    }
   ],
   "source": [
    "print(\"Summary of The Anime Dataset :\")\n",
    "anime_info.describe().T.style.set_properties(**{\"color\":\"blue\",\"border\": \"1.5px  solid black\"})"
   ]
  },
  {
   "cell_type": "code",
   "execution_count": 34,
   "id": "91690019",
   "metadata": {},
   "outputs": [
    {
     "data": {
      "text/html": [
       "<style type=\"text/css\">\n",
       "#T_57ad0_row0_col0, #T_57ad0_row0_col1, #T_57ad0_row0_col2, #T_57ad0_row0_col3, #T_57ad0_row1_col0, #T_57ad0_row1_col1, #T_57ad0_row1_col2, #T_57ad0_row1_col3, #T_57ad0_row2_col0, #T_57ad0_row2_col1, #T_57ad0_row2_col2, #T_57ad0_row2_col3, #T_57ad0_row3_col0, #T_57ad0_row3_col1, #T_57ad0_row3_col2, #T_57ad0_row3_col3 {\n",
       "  color: blue;\n",
       "  border: 1.2px  solid black;\n",
       "}\n",
       "</style>\n",
       "<table id=\"T_57ad0\">\n",
       "  <thead>\n",
       "    <tr>\n",
       "      <th class=\"blank level0\" >&nbsp;</th>\n",
       "      <th id=\"T_57ad0_level0_col0\" class=\"col_heading level0 col0\" >count</th>\n",
       "      <th id=\"T_57ad0_level0_col1\" class=\"col_heading level0 col1\" >unique</th>\n",
       "      <th id=\"T_57ad0_level0_col2\" class=\"col_heading level0 col2\" >top</th>\n",
       "      <th id=\"T_57ad0_level0_col3\" class=\"col_heading level0 col3\" >freq</th>\n",
       "    </tr>\n",
       "  </thead>\n",
       "  <tbody>\n",
       "    <tr>\n",
       "      <th id=\"T_57ad0_level0_row0\" class=\"row_heading level0 row0\" >name</th>\n",
       "      <td id=\"T_57ad0_row0_col0\" class=\"data row0 col0\" >12294</td>\n",
       "      <td id=\"T_57ad0_row0_col1\" class=\"data row0 col1\" >12292</td>\n",
       "      <td id=\"T_57ad0_row0_col2\" class=\"data row0 col2\" >Shi Wan Ge Leng Xiaohua</td>\n",
       "      <td id=\"T_57ad0_row0_col3\" class=\"data row0 col3\" >2</td>\n",
       "    </tr>\n",
       "    <tr>\n",
       "      <th id=\"T_57ad0_level0_row1\" class=\"row_heading level0 row1\" >genre</th>\n",
       "      <td id=\"T_57ad0_row1_col0\" class=\"data row1 col0\" >12232</td>\n",
       "      <td id=\"T_57ad0_row1_col1\" class=\"data row1 col1\" >3264</td>\n",
       "      <td id=\"T_57ad0_row1_col2\" class=\"data row1 col2\" >Hentai</td>\n",
       "      <td id=\"T_57ad0_row1_col3\" class=\"data row1 col3\" >823</td>\n",
       "    </tr>\n",
       "    <tr>\n",
       "      <th id=\"T_57ad0_level0_row2\" class=\"row_heading level0 row2\" >type</th>\n",
       "      <td id=\"T_57ad0_row2_col0\" class=\"data row2 col0\" >12269</td>\n",
       "      <td id=\"T_57ad0_row2_col1\" class=\"data row2 col1\" >6</td>\n",
       "      <td id=\"T_57ad0_row2_col2\" class=\"data row2 col2\" >TV</td>\n",
       "      <td id=\"T_57ad0_row2_col3\" class=\"data row2 col3\" >3787</td>\n",
       "    </tr>\n",
       "    <tr>\n",
       "      <th id=\"T_57ad0_level0_row3\" class=\"row_heading level0 row3\" >episodes</th>\n",
       "      <td id=\"T_57ad0_row3_col0\" class=\"data row3 col0\" >12294</td>\n",
       "      <td id=\"T_57ad0_row3_col1\" class=\"data row3 col1\" >187</td>\n",
       "      <td id=\"T_57ad0_row3_col2\" class=\"data row3 col2\" >1</td>\n",
       "      <td id=\"T_57ad0_row3_col3\" class=\"data row3 col3\" >5677</td>\n",
       "    </tr>\n",
       "  </tbody>\n",
       "</table>\n"
      ],
      "text/plain": [
       "<pandas.io.formats.style.Styler at 0x1d001061280>"
      ]
     },
     "execution_count": 34,
     "metadata": {},
     "output_type": "execute_result"
    }
   ],
   "source": [
    "anime_info.describe(include=object).T.style.set_properties(**{\"color\":\"blue\",\"border\": \"1.2px  solid black\"})"
   ]
  },
  {
   "cell_type": "code",
   "execution_count": 35,
   "id": "9ddeebe1",
   "metadata": {},
   "outputs": [
    {
     "name": "stdout",
     "output_type": "stream",
     "text": [
      "Null Values of Anime Dataset :\n"
     ]
    },
    {
     "data": {
      "text/html": [
       "<style type=\"text/css\">\n",
       "#T_c01b2_row0_col0, #T_c01b2_row0_col1, #T_c01b2_row0_col2, #T_c01b2_row0_col3, #T_c01b2_row0_col4, #T_c01b2_row0_col5, #T_c01b2_row0_col6 {\n",
       "  color: blue;\n",
       "  border: 1.5px  solid black;\n",
       "}\n",
       "</style>\n",
       "<table id=\"T_c01b2\">\n",
       "  <thead>\n",
       "    <tr>\n",
       "      <th class=\"blank level0\" >&nbsp;</th>\n",
       "      <th id=\"T_c01b2_level0_col0\" class=\"col_heading level0 col0\" >anime_id</th>\n",
       "      <th id=\"T_c01b2_level0_col1\" class=\"col_heading level0 col1\" >name</th>\n",
       "      <th id=\"T_c01b2_level0_col2\" class=\"col_heading level0 col2\" >genre</th>\n",
       "      <th id=\"T_c01b2_level0_col3\" class=\"col_heading level0 col3\" >type</th>\n",
       "      <th id=\"T_c01b2_level0_col4\" class=\"col_heading level0 col4\" >episodes</th>\n",
       "      <th id=\"T_c01b2_level0_col5\" class=\"col_heading level0 col5\" >rating</th>\n",
       "      <th id=\"T_c01b2_level0_col6\" class=\"col_heading level0 col6\" >members</th>\n",
       "    </tr>\n",
       "  </thead>\n",
       "  <tbody>\n",
       "    <tr>\n",
       "      <th id=\"T_c01b2_level0_row0\" class=\"row_heading level0 row0\" >0</th>\n",
       "      <td id=\"T_c01b2_row0_col0\" class=\"data row0 col0\" >0</td>\n",
       "      <td id=\"T_c01b2_row0_col1\" class=\"data row0 col1\" >0</td>\n",
       "      <td id=\"T_c01b2_row0_col2\" class=\"data row0 col2\" >62</td>\n",
       "      <td id=\"T_c01b2_row0_col3\" class=\"data row0 col3\" >25</td>\n",
       "      <td id=\"T_c01b2_row0_col4\" class=\"data row0 col4\" >0</td>\n",
       "      <td id=\"T_c01b2_row0_col5\" class=\"data row0 col5\" >230</td>\n",
       "      <td id=\"T_c01b2_row0_col6\" class=\"data row0 col6\" >0</td>\n",
       "    </tr>\n",
       "  </tbody>\n",
       "</table>\n"
      ],
      "text/plain": [
       "<pandas.io.formats.style.Styler at 0x1d006937310>"
      ]
     },
     "execution_count": 35,
     "metadata": {},
     "output_type": "execute_result"
    }
   ],
   "source": [
    "print(\"Null Values of Anime Dataset :\")\n",
    "anime_info.isna().sum().to_frame().T.style.set_properties(**{\"color\":\"blue\",\"border\": \"1.5px  solid black\"})"
   ]
  },
  {
   "cell_type": "code",
   "execution_count": 36,
   "id": "e6ffc10f",
   "metadata": {},
   "outputs": [
    {
     "data": {
      "text/html": [
       "<style type=\"text/css\">\n",
       "#T_a6e57_row0_col0, #T_a6e57_row0_col1, #T_a6e57_row0_col2, #T_a6e57_row0_col3, #T_a6e57_row0_col4, #T_a6e57_row0_col5, #T_a6e57_row0_col6 {\n",
       "  color: blue;\n",
       "  border: 1.5px  solid black;\n",
       "}\n",
       "</style>\n",
       "<table id=\"T_a6e57\">\n",
       "  <thead>\n",
       "    <tr>\n",
       "      <th class=\"blank level0\" >&nbsp;</th>\n",
       "      <th id=\"T_a6e57_level0_col0\" class=\"col_heading level0 col0\" >anime_id</th>\n",
       "      <th id=\"T_a6e57_level0_col1\" class=\"col_heading level0 col1\" >name</th>\n",
       "      <th id=\"T_a6e57_level0_col2\" class=\"col_heading level0 col2\" >genre</th>\n",
       "      <th id=\"T_a6e57_level0_col3\" class=\"col_heading level0 col3\" >type</th>\n",
       "      <th id=\"T_a6e57_level0_col4\" class=\"col_heading level0 col4\" >episodes</th>\n",
       "      <th id=\"T_a6e57_level0_col5\" class=\"col_heading level0 col5\" >rating</th>\n",
       "      <th id=\"T_a6e57_level0_col6\" class=\"col_heading level0 col6\" >members</th>\n",
       "    </tr>\n",
       "  </thead>\n",
       "  <tbody>\n",
       "    <tr>\n",
       "      <th id=\"T_a6e57_level0_row0\" class=\"row_heading level0 row0\" >0</th>\n",
       "      <td id=\"T_a6e57_row0_col0\" class=\"data row0 col0\" >0</td>\n",
       "      <td id=\"T_a6e57_row0_col1\" class=\"data row0 col1\" >0</td>\n",
       "      <td id=\"T_a6e57_row0_col2\" class=\"data row0 col2\" >0</td>\n",
       "      <td id=\"T_a6e57_row0_col3\" class=\"data row0 col3\" >0</td>\n",
       "      <td id=\"T_a6e57_row0_col4\" class=\"data row0 col4\" >0</td>\n",
       "      <td id=\"T_a6e57_row0_col5\" class=\"data row0 col5\" >0</td>\n",
       "      <td id=\"T_a6e57_row0_col6\" class=\"data row0 col6\" >0</td>\n",
       "    </tr>\n",
       "  </tbody>\n",
       "</table>\n"
      ],
      "text/plain": [
       "<pandas.io.formats.style.Styler at 0x1d0077c8e20>"
      ]
     },
     "execution_count": 36,
     "metadata": {},
     "output_type": "execute_result"
    }
   ],
   "source": [
    "anime_info.dropna(axis = 0, inplace = True)\n",
    "anime_info.isna().sum().to_frame().T.style.set_properties(**{\"color\":\"blue\",\"border\": \"1.5px  solid black\"})"
   ]
  },
  {
   "cell_type": "code",
   "execution_count": 37,
   "id": "b5318f12",
   "metadata": {},
   "outputs": [
    {
     "name": "stdout",
     "output_type": "stream",
     "text": [
      "There are 0 duplicate entries among 12017 entries in anime dataset.\n"
     ]
    }
   ],
   "source": [
    "dup_anime = anime_info[anime_info.duplicated()].shape[0]\n",
    "print(f\"There are {dup_anime} duplicate entries among {anime_info.shape[0]} entries in anime dataset.\")"
   ]
  },
  {
   "cell_type": "markdown",
   "id": "110ea172",
   "metadata": {},
   "source": [
    "# CLEANING THE RATINGS DATASET"
   ]
  },
  {
   "cell_type": "code",
   "execution_count": 38,
   "id": "17fc265a",
   "metadata": {},
   "outputs": [
    {
     "name": "stdout",
     "output_type": "stream",
     "text": [
      "Summary of The Ratings Dataset :\n"
     ]
    },
    {
     "data": {
      "text/html": [
       "<style type=\"text/css\">\n",
       "#T_c3be3_row0_col0, #T_c3be3_row0_col1, #T_c3be3_row0_col2, #T_c3be3_row0_col3, #T_c3be3_row0_col4, #T_c3be3_row0_col5, #T_c3be3_row0_col6, #T_c3be3_row0_col7, #T_c3be3_row1_col0, #T_c3be3_row1_col1, #T_c3be3_row1_col2, #T_c3be3_row1_col3, #T_c3be3_row1_col4, #T_c3be3_row1_col5, #T_c3be3_row1_col6, #T_c3be3_row1_col7, #T_c3be3_row2_col0, #T_c3be3_row2_col1, #T_c3be3_row2_col2, #T_c3be3_row2_col3, #T_c3be3_row2_col4, #T_c3be3_row2_col5, #T_c3be3_row2_col6, #T_c3be3_row2_col7 {\n",
       "  color: blue;\n",
       "  border: 1.5px  solid black;\n",
       "}\n",
       "</style>\n",
       "<table id=\"T_c3be3\">\n",
       "  <thead>\n",
       "    <tr>\n",
       "      <th class=\"blank level0\" >&nbsp;</th>\n",
       "      <th id=\"T_c3be3_level0_col0\" class=\"col_heading level0 col0\" >count</th>\n",
       "      <th id=\"T_c3be3_level0_col1\" class=\"col_heading level0 col1\" >mean</th>\n",
       "      <th id=\"T_c3be3_level0_col2\" class=\"col_heading level0 col2\" >std</th>\n",
       "      <th id=\"T_c3be3_level0_col3\" class=\"col_heading level0 col3\" >min</th>\n",
       "      <th id=\"T_c3be3_level0_col4\" class=\"col_heading level0 col4\" >25%</th>\n",
       "      <th id=\"T_c3be3_level0_col5\" class=\"col_heading level0 col5\" >50%</th>\n",
       "      <th id=\"T_c3be3_level0_col6\" class=\"col_heading level0 col6\" >75%</th>\n",
       "      <th id=\"T_c3be3_level0_col7\" class=\"col_heading level0 col7\" >max</th>\n",
       "    </tr>\n",
       "  </thead>\n",
       "  <tbody>\n",
       "    <tr>\n",
       "      <th id=\"T_c3be3_level0_row0\" class=\"row_heading level0 row0\" >user_id</th>\n",
       "      <td id=\"T_c3be3_row0_col0\" class=\"data row0 col0\" >7813737.000000</td>\n",
       "      <td id=\"T_c3be3_row0_col1\" class=\"data row0 col1\" >36727.956745</td>\n",
       "      <td id=\"T_c3be3_row0_col2\" class=\"data row0 col2\" >20997.946119</td>\n",
       "      <td id=\"T_c3be3_row0_col3\" class=\"data row0 col3\" >1.000000</td>\n",
       "      <td id=\"T_c3be3_row0_col4\" class=\"data row0 col4\" >18974.000000</td>\n",
       "      <td id=\"T_c3be3_row0_col5\" class=\"data row0 col5\" >36791.000000</td>\n",
       "      <td id=\"T_c3be3_row0_col6\" class=\"data row0 col6\" >54757.000000</td>\n",
       "      <td id=\"T_c3be3_row0_col7\" class=\"data row0 col7\" >73516.000000</td>\n",
       "    </tr>\n",
       "    <tr>\n",
       "      <th id=\"T_c3be3_level0_row1\" class=\"row_heading level0 row1\" >anime_id</th>\n",
       "      <td id=\"T_c3be3_row1_col0\" class=\"data row1 col0\" >7813737.000000</td>\n",
       "      <td id=\"T_c3be3_row1_col1\" class=\"data row1 col1\" >8909.072104</td>\n",
       "      <td id=\"T_c3be3_row1_col2\" class=\"data row1 col2\" >8883.949636</td>\n",
       "      <td id=\"T_c3be3_row1_col3\" class=\"data row1 col3\" >1.000000</td>\n",
       "      <td id=\"T_c3be3_row1_col4\" class=\"data row1 col4\" >1240.000000</td>\n",
       "      <td id=\"T_c3be3_row1_col5\" class=\"data row1 col5\" >6213.000000</td>\n",
       "      <td id=\"T_c3be3_row1_col6\" class=\"data row1 col6\" >14093.000000</td>\n",
       "      <td id=\"T_c3be3_row1_col7\" class=\"data row1 col7\" >34519.000000</td>\n",
       "    </tr>\n",
       "    <tr>\n",
       "      <th id=\"T_c3be3_level0_row2\" class=\"row_heading level0 row2\" >rating</th>\n",
       "      <td id=\"T_c3be3_row2_col0\" class=\"data row2 col0\" >7813737.000000</td>\n",
       "      <td id=\"T_c3be3_row2_col1\" class=\"data row2 col1\" >6.144030</td>\n",
       "      <td id=\"T_c3be3_row2_col2\" class=\"data row2 col2\" >3.727800</td>\n",
       "      <td id=\"T_c3be3_row2_col3\" class=\"data row2 col3\" >-1.000000</td>\n",
       "      <td id=\"T_c3be3_row2_col4\" class=\"data row2 col4\" >6.000000</td>\n",
       "      <td id=\"T_c3be3_row2_col5\" class=\"data row2 col5\" >7.000000</td>\n",
       "      <td id=\"T_c3be3_row2_col6\" class=\"data row2 col6\" >9.000000</td>\n",
       "      <td id=\"T_c3be3_row2_col7\" class=\"data row2 col7\" >10.000000</td>\n",
       "    </tr>\n",
       "  </tbody>\n",
       "</table>\n"
      ],
      "text/plain": [
       "<pandas.io.formats.style.Styler at 0x1d006937610>"
      ]
     },
     "execution_count": 38,
     "metadata": {},
     "output_type": "execute_result"
    }
   ],
   "source": [
    "print(\"Summary of The Ratings Dataset :\")\n",
    "ratings.describe().T.style.set_properties(**{\"color\":\"blue\",\"border\": \"1.5px  solid black\"})"
   ]
  },
  {
   "cell_type": "code",
   "execution_count": 39,
   "id": "8f430c8b",
   "metadata": {},
   "outputs": [
    {
     "name": "stdout",
     "output_type": "stream",
     "text": [
      "Null Values of Ratings Dataset :\n"
     ]
    },
    {
     "data": {
      "text/html": [
       "<style type=\"text/css\">\n",
       "#T_641fa_row0_col0, #T_641fa_row0_col1, #T_641fa_row0_col2 {\n",
       "  color: blue;\n",
       "  border: 1.5px  solid black;\n",
       "}\n",
       "</style>\n",
       "<table id=\"T_641fa\">\n",
       "  <thead>\n",
       "    <tr>\n",
       "      <th class=\"blank level0\" >&nbsp;</th>\n",
       "      <th id=\"T_641fa_level0_col0\" class=\"col_heading level0 col0\" >user_id</th>\n",
       "      <th id=\"T_641fa_level0_col1\" class=\"col_heading level0 col1\" >anime_id</th>\n",
       "      <th id=\"T_641fa_level0_col2\" class=\"col_heading level0 col2\" >rating</th>\n",
       "    </tr>\n",
       "  </thead>\n",
       "  <tbody>\n",
       "    <tr>\n",
       "      <th id=\"T_641fa_level0_row0\" class=\"row_heading level0 row0\" >0</th>\n",
       "      <td id=\"T_641fa_row0_col0\" class=\"data row0 col0\" >0</td>\n",
       "      <td id=\"T_641fa_row0_col1\" class=\"data row0 col1\" >0</td>\n",
       "      <td id=\"T_641fa_row0_col2\" class=\"data row0 col2\" >0</td>\n",
       "    </tr>\n",
       "  </tbody>\n",
       "</table>\n"
      ],
      "text/plain": [
       "<pandas.io.formats.style.Styler at 0x1d0077c8e50>"
      ]
     },
     "execution_count": 39,
     "metadata": {},
     "output_type": "execute_result"
    }
   ],
   "source": [
    "print(\"Null Values of Ratings Dataset :\")\n",
    "ratings.isna().sum().to_frame().T.style.set_properties(**{\"color\":\"blue\",\"border\": \"1.5px  solid black\"})"
   ]
  },
  {
   "cell_type": "code",
   "execution_count": 40,
   "id": "69ac2bda",
   "metadata": {},
   "outputs": [
    {
     "name": "stdout",
     "output_type": "stream",
     "text": [
      "There are 1 duplicate entries among 7813737 entries in rating dataset.\n",
      "\n",
      "After removing duplicate entries there are 7813736 entries in this dataset.\n"
     ]
    }
   ],
   "source": [
    "dup_rating = ratings[ratings.duplicated()].shape[0]\n",
    "print(f\"There are {dup_rating} duplicate entries among {ratings.shape[0]} entries in rating dataset.\")\n",
    "\n",
    "ratings.drop_duplicates(keep='first',inplace=True)\n",
    "print(f\"\\nAfter removing duplicate entries there are {ratings.shape[0]} entries in this dataset.\")"
   ]
  },
  {
   "cell_type": "markdown",
   "id": "8c8bc6ab",
   "metadata": {},
   "source": [
    "# Merging the two datasets ie anime_info and ratings"
   ]
  },
  {
   "cell_type": "code",
   "execution_count": 41,
   "id": "8a3a3cd1",
   "metadata": {},
   "outputs": [
    {
     "name": "stdout",
     "output_type": "stream",
     "text": [
      "New Shape: (7813610, 9)\n",
      "\n",
      "First Five Rows of The Merged Dataset :\n"
     ]
    },
    {
     "data": {
      "text/html": [
       "<style type=\"text/css\">\n",
       "#T_9162d_row0_col0, #T_9162d_row0_col1, #T_9162d_row0_col2, #T_9162d_row0_col3, #T_9162d_row0_col4, #T_9162d_row0_col5, #T_9162d_row0_col6, #T_9162d_row0_col7, #T_9162d_row0_col8, #T_9162d_row1_col0, #T_9162d_row1_col1, #T_9162d_row1_col2, #T_9162d_row1_col3, #T_9162d_row1_col4, #T_9162d_row1_col5, #T_9162d_row1_col6, #T_9162d_row1_col7, #T_9162d_row1_col8, #T_9162d_row2_col0, #T_9162d_row2_col1, #T_9162d_row2_col2, #T_9162d_row2_col3, #T_9162d_row2_col4, #T_9162d_row2_col5, #T_9162d_row2_col6, #T_9162d_row2_col7, #T_9162d_row2_col8, #T_9162d_row3_col0, #T_9162d_row3_col1, #T_9162d_row3_col2, #T_9162d_row3_col3, #T_9162d_row3_col4, #T_9162d_row3_col5, #T_9162d_row3_col6, #T_9162d_row3_col7, #T_9162d_row3_col8, #T_9162d_row4_col0, #T_9162d_row4_col1, #T_9162d_row4_col2, #T_9162d_row4_col3, #T_9162d_row4_col4, #T_9162d_row4_col5, #T_9162d_row4_col6, #T_9162d_row4_col7, #T_9162d_row4_col8 {\n",
       "  color: black;\n",
       "  border: 1.5px  solid black;\n",
       "}\n",
       "</style>\n",
       "<table id=\"T_9162d\">\n",
       "  <thead>\n",
       "    <tr>\n",
       "      <th class=\"blank level0\" >&nbsp;</th>\n",
       "      <th id=\"T_9162d_level0_col0\" class=\"col_heading level0 col0\" >anime_id</th>\n",
       "      <th id=\"T_9162d_level0_col1\" class=\"col_heading level0 col1\" >name</th>\n",
       "      <th id=\"T_9162d_level0_col2\" class=\"col_heading level0 col2\" >genre</th>\n",
       "      <th id=\"T_9162d_level0_col3\" class=\"col_heading level0 col3\" >type</th>\n",
       "      <th id=\"T_9162d_level0_col4\" class=\"col_heading level0 col4\" >episodes</th>\n",
       "      <th id=\"T_9162d_level0_col5\" class=\"col_heading level0 col5\" >rating</th>\n",
       "      <th id=\"T_9162d_level0_col6\" class=\"col_heading level0 col6\" >members</th>\n",
       "      <th id=\"T_9162d_level0_col7\" class=\"col_heading level0 col7\" >user_id</th>\n",
       "      <th id=\"T_9162d_level0_col8\" class=\"col_heading level0 col8\" >user_rating</th>\n",
       "    </tr>\n",
       "  </thead>\n",
       "  <tbody>\n",
       "    <tr>\n",
       "      <th id=\"T_9162d_level0_row0\" class=\"row_heading level0 row0\" >0</th>\n",
       "      <td id=\"T_9162d_row0_col0\" class=\"data row0 col0\" >32281</td>\n",
       "      <td id=\"T_9162d_row0_col1\" class=\"data row0 col1\" >Kimi no Na wa.</td>\n",
       "      <td id=\"T_9162d_row0_col2\" class=\"data row0 col2\" >Drama, Romance, School, Supernatural</td>\n",
       "      <td id=\"T_9162d_row0_col3\" class=\"data row0 col3\" >Movie</td>\n",
       "      <td id=\"T_9162d_row0_col4\" class=\"data row0 col4\" >1</td>\n",
       "      <td id=\"T_9162d_row0_col5\" class=\"data row0 col5\" >9.370000</td>\n",
       "      <td id=\"T_9162d_row0_col6\" class=\"data row0 col6\" >200630</td>\n",
       "      <td id=\"T_9162d_row0_col7\" class=\"data row0 col7\" >99</td>\n",
       "      <td id=\"T_9162d_row0_col8\" class=\"data row0 col8\" >5</td>\n",
       "    </tr>\n",
       "    <tr>\n",
       "      <th id=\"T_9162d_level0_row1\" class=\"row_heading level0 row1\" >1</th>\n",
       "      <td id=\"T_9162d_row1_col0\" class=\"data row1 col0\" >32281</td>\n",
       "      <td id=\"T_9162d_row1_col1\" class=\"data row1 col1\" >Kimi no Na wa.</td>\n",
       "      <td id=\"T_9162d_row1_col2\" class=\"data row1 col2\" >Drama, Romance, School, Supernatural</td>\n",
       "      <td id=\"T_9162d_row1_col3\" class=\"data row1 col3\" >Movie</td>\n",
       "      <td id=\"T_9162d_row1_col4\" class=\"data row1 col4\" >1</td>\n",
       "      <td id=\"T_9162d_row1_col5\" class=\"data row1 col5\" >9.370000</td>\n",
       "      <td id=\"T_9162d_row1_col6\" class=\"data row1 col6\" >200630</td>\n",
       "      <td id=\"T_9162d_row1_col7\" class=\"data row1 col7\" >152</td>\n",
       "      <td id=\"T_9162d_row1_col8\" class=\"data row1 col8\" >10</td>\n",
       "    </tr>\n",
       "    <tr>\n",
       "      <th id=\"T_9162d_level0_row2\" class=\"row_heading level0 row2\" >2</th>\n",
       "      <td id=\"T_9162d_row2_col0\" class=\"data row2 col0\" >32281</td>\n",
       "      <td id=\"T_9162d_row2_col1\" class=\"data row2 col1\" >Kimi no Na wa.</td>\n",
       "      <td id=\"T_9162d_row2_col2\" class=\"data row2 col2\" >Drama, Romance, School, Supernatural</td>\n",
       "      <td id=\"T_9162d_row2_col3\" class=\"data row2 col3\" >Movie</td>\n",
       "      <td id=\"T_9162d_row2_col4\" class=\"data row2 col4\" >1</td>\n",
       "      <td id=\"T_9162d_row2_col5\" class=\"data row2 col5\" >9.370000</td>\n",
       "      <td id=\"T_9162d_row2_col6\" class=\"data row2 col6\" >200630</td>\n",
       "      <td id=\"T_9162d_row2_col7\" class=\"data row2 col7\" >244</td>\n",
       "      <td id=\"T_9162d_row2_col8\" class=\"data row2 col8\" >10</td>\n",
       "    </tr>\n",
       "    <tr>\n",
       "      <th id=\"T_9162d_level0_row3\" class=\"row_heading level0 row3\" >3</th>\n",
       "      <td id=\"T_9162d_row3_col0\" class=\"data row3 col0\" >32281</td>\n",
       "      <td id=\"T_9162d_row3_col1\" class=\"data row3 col1\" >Kimi no Na wa.</td>\n",
       "      <td id=\"T_9162d_row3_col2\" class=\"data row3 col2\" >Drama, Romance, School, Supernatural</td>\n",
       "      <td id=\"T_9162d_row3_col3\" class=\"data row3 col3\" >Movie</td>\n",
       "      <td id=\"T_9162d_row3_col4\" class=\"data row3 col4\" >1</td>\n",
       "      <td id=\"T_9162d_row3_col5\" class=\"data row3 col5\" >9.370000</td>\n",
       "      <td id=\"T_9162d_row3_col6\" class=\"data row3 col6\" >200630</td>\n",
       "      <td id=\"T_9162d_row3_col7\" class=\"data row3 col7\" >271</td>\n",
       "      <td id=\"T_9162d_row3_col8\" class=\"data row3 col8\" >10</td>\n",
       "    </tr>\n",
       "    <tr>\n",
       "      <th id=\"T_9162d_level0_row4\" class=\"row_heading level0 row4\" >4</th>\n",
       "      <td id=\"T_9162d_row4_col0\" class=\"data row4 col0\" >32281</td>\n",
       "      <td id=\"T_9162d_row4_col1\" class=\"data row4 col1\" >Kimi no Na wa.</td>\n",
       "      <td id=\"T_9162d_row4_col2\" class=\"data row4 col2\" >Drama, Romance, School, Supernatural</td>\n",
       "      <td id=\"T_9162d_row4_col3\" class=\"data row4 col3\" >Movie</td>\n",
       "      <td id=\"T_9162d_row4_col4\" class=\"data row4 col4\" >1</td>\n",
       "      <td id=\"T_9162d_row4_col5\" class=\"data row4 col5\" >9.370000</td>\n",
       "      <td id=\"T_9162d_row4_col6\" class=\"data row4 col6\" >200630</td>\n",
       "      <td id=\"T_9162d_row4_col7\" class=\"data row4 col7\" >278</td>\n",
       "      <td id=\"T_9162d_row4_col8\" class=\"data row4 col8\" >-1</td>\n",
       "    </tr>\n",
       "  </tbody>\n",
       "</table>\n"
      ],
      "text/plain": [
       "<pandas.io.formats.style.Styler at 0x1d00692a790>"
      ]
     },
     "execution_count": 41,
     "metadata": {},
     "output_type": "execute_result"
    }
   ],
   "source": [
    "merge_anime_data = pd.merge(anime_info,ratings,on=\"anime_id\",suffixes= [None, \"_user\"])\n",
    "merge_anime_data = merge_anime_data.rename(columns={\"rating_user\": \"user_rating\"})\n",
    "\n",
    "print(f\"New Shape: {merge_anime_data.shape}\")\n",
    "print(\"\\nFirst Five Rows of The Merged Dataset :\")\n",
    "\n",
    "merge_anime_data.head().style.set_properties(**{\"color\":\"black\",\"border\": \"1.5px  solid black\"})"
   ]
  },
  {
   "cell_type": "markdown",
   "id": "6aaa632c",
   "metadata": {},
   "source": [
    "# Data Visualization"
   ]
  },
  {
   "cell_type": "code",
   "execution_count": 42,
   "id": "f709f89c",
   "metadata": {},
   "outputs": [
    {
     "data": {
      "image/png": "[encoded data removed]",
      "text/plain": [
       "<Figure size 1400x100 with 1 Axes>"
      ]
     },
     "metadata": {},
     "output_type": "display_data"
    }
   ],
   "source": [
    "sns.set_style(\"white\")\n",
    "sns.set_context(\"poster\",font_scale = .7)\n",
    "\n",
    "palette = [\"#1d7874\",\"#d6d6d6\",\"#679289\",\"#ee2e31\",\"#ffb563\",\"#918450\",\"#f85e00\",\"#f4c095\",\"#a41623\",\"#9a031e\",\"#ffee32\",\"#ffd100\",\"#333533\",\"#202020\"]\n",
    "\n",
    "sns.palplot(sns.color_palette(palette))\n",
    "plt.show()"
   ]
  },
  {
   "cell_type": "code",
   "execution_count": 43,
   "id": "74bd138d",
   "metadata": {},
   "outputs": [
    {
     "data": {
      "image/png": "[encoded data removed]",
      "text/plain": [
       "<Figure size 2000x800 with 1 Axes>"
      ]
     },
     "metadata": {},
     "output_type": "display_data"
    }
   ],
   "source": [
    "topanime_community = merge_anime_data.copy()\n",
    "topanime_community.drop_duplicates(subset =\"name\", keep = \"first\", inplace = True)\n",
    "topanime_community_temp1 = topanime_community.sort_values([\"members\"],ascending=False)\n",
    "\n",
    "plt.subplots(figsize=(20,8))\n",
    "p = sns.barplot(x=topanime_community_temp1[\"name\"][:14],y=topanime_community_temp1[\"members\"],\n",
    "                palette=palette, saturation=1, edgecolor = \"#1c1c1c\", linewidth = 2)\n",
    "p.axes.set_title(\"\\nLargest Anime Community\\n\", fontsize=30)\n",
    "plt.ylabel(\"Total Member\")\n",
    "plt.xlabel(\"\\nAnime Name\")\n",
    "\n",
    "\n",
    "\n",
    "plt.xticks(rotation = 90)\n",
    "for container in p.containers:\n",
    "    p.bar_label(container,label_type = \"center\",padding = 6,size = 15,color = \"black\",rotation = 90,\n",
    "    bbox={\"boxstyle\": \"round\", \"pad\": 0.6, \"facecolor\": \"orange\", \"edgecolor\": \"black\", \"alpha\": 1})\n",
    "\n",
    "sns.despine(left=True, bottom=True)\n",
    "plt.show()"
   ]
  },
  {
   "cell_type": "markdown",
   "id": "71d1161f",
   "metadata": {},
   "source": [
    "# GENRES"
   ]
  },
  {
   "cell_type": "code",
   "execution_count": 44,
   "id": "e57c78a8",
   "metadata": {},
   "outputs": [
    {
     "name": "stdout",
     "output_type": "stream",
     "text": [
      "Total unique genres are 43\n",
      "Occurances of unique genres :\n"
     ]
    },
    {
     "data": {
      "text/html": [
       "<style type=\"text/css\">\n",
       "#T_14c0d_row0_col0, #T_14c0d_row0_col1, #T_14c0d_row0_col2, #T_14c0d_row0_col3, #T_14c0d_row0_col4, #T_14c0d_row0_col5, #T_14c0d_row0_col6, #T_14c0d_row0_col7, #T_14c0d_row0_col8, #T_14c0d_row0_col9, #T_14c0d_row0_col10, #T_14c0d_row0_col11, #T_14c0d_row0_col12, #T_14c0d_row0_col13, #T_14c0d_row0_col14, #T_14c0d_row0_col15, #T_14c0d_row0_col16, #T_14c0d_row0_col17, #T_14c0d_row0_col18, #T_14c0d_row0_col19, #T_14c0d_row0_col20, #T_14c0d_row0_col21, #T_14c0d_row0_col22, #T_14c0d_row0_col23, #T_14c0d_row0_col24, #T_14c0d_row0_col25, #T_14c0d_row0_col26, #T_14c0d_row0_col27, #T_14c0d_row0_col28, #T_14c0d_row0_col29, #T_14c0d_row0_col30, #T_14c0d_row0_col31, #T_14c0d_row0_col32, #T_14c0d_row0_col33, #T_14c0d_row0_col34, #T_14c0d_row0_col35, #T_14c0d_row0_col36, #T_14c0d_row0_col37, #T_14c0d_row0_col38, #T_14c0d_row0_col39, #T_14c0d_row0_col40, #T_14c0d_row0_col41, #T_14c0d_row0_col42 {\n",
       "  color: black;\n",
       "  border: 1.5px  solid black;\n",
       "}\n",
       "</style>\n",
       "<table id=\"T_14c0d\">\n",
       "  <thead>\n",
       "    <tr>\n",
       "      <th class=\"blank level0\" >&nbsp;</th>\n",
       "      <th id=\"T_14c0d_level0_col0\" class=\"col_heading level0 col0\" >Comedy</th>\n",
       "      <th id=\"T_14c0d_level0_col1\" class=\"col_heading level0 col1\" >Action</th>\n",
       "      <th id=\"T_14c0d_level0_col2\" class=\"col_heading level0 col2\" >Adventure</th>\n",
       "      <th id=\"T_14c0d_level0_col3\" class=\"col_heading level0 col3\" >Fantasy</th>\n",
       "      <th id=\"T_14c0d_level0_col4\" class=\"col_heading level0 col4\" >Sci-Fi</th>\n",
       "      <th id=\"T_14c0d_level0_col5\" class=\"col_heading level0 col5\" >Drama</th>\n",
       "      <th id=\"T_14c0d_level0_col6\" class=\"col_heading level0 col6\" >Shounen</th>\n",
       "      <th id=\"T_14c0d_level0_col7\" class=\"col_heading level0 col7\" >Romance</th>\n",
       "      <th id=\"T_14c0d_level0_col8\" class=\"col_heading level0 col8\" >Kids</th>\n",
       "      <th id=\"T_14c0d_level0_col9\" class=\"col_heading level0 col9\" >School</th>\n",
       "      <th id=\"T_14c0d_level0_col10\" class=\"col_heading level0 col10\" >Slice Of Life</th>\n",
       "      <th id=\"T_14c0d_level0_col11\" class=\"col_heading level0 col11\" >Hentai</th>\n",
       "      <th id=\"T_14c0d_level0_col12\" class=\"col_heading level0 col12\" >Supernatural</th>\n",
       "      <th id=\"T_14c0d_level0_col13\" class=\"col_heading level0 col13\" >Mecha</th>\n",
       "      <th id=\"T_14c0d_level0_col14\" class=\"col_heading level0 col14\" >Music</th>\n",
       "      <th id=\"T_14c0d_level0_col15\" class=\"col_heading level0 col15\" >Historical</th>\n",
       "      <th id=\"T_14c0d_level0_col16\" class=\"col_heading level0 col16\" >Magic</th>\n",
       "      <th id=\"T_14c0d_level0_col17\" class=\"col_heading level0 col17\" >Ecchi</th>\n",
       "      <th id=\"T_14c0d_level0_col18\" class=\"col_heading level0 col18\" >Shoujo</th>\n",
       "      <th id=\"T_14c0d_level0_col19\" class=\"col_heading level0 col19\" >Seinen</th>\n",
       "      <th id=\"T_14c0d_level0_col20\" class=\"col_heading level0 col20\" >Sports</th>\n",
       "      <th id=\"T_14c0d_level0_col21\" class=\"col_heading level0 col21\" >Mystery</th>\n",
       "      <th id=\"T_14c0d_level0_col22\" class=\"col_heading level0 col22\" >Super Power</th>\n",
       "      <th id=\"T_14c0d_level0_col23\" class=\"col_heading level0 col23\" >Military</th>\n",
       "      <th id=\"T_14c0d_level0_col24\" class=\"col_heading level0 col24\" >Parody</th>\n",
       "      <th id=\"T_14c0d_level0_col25\" class=\"col_heading level0 col25\" >Space</th>\n",
       "      <th id=\"T_14c0d_level0_col26\" class=\"col_heading level0 col26\" >Horror</th>\n",
       "      <th id=\"T_14c0d_level0_col27\" class=\"col_heading level0 col27\" >Harem</th>\n",
       "      <th id=\"T_14c0d_level0_col28\" class=\"col_heading level0 col28\" >Demons</th>\n",
       "      <th id=\"T_14c0d_level0_col29\" class=\"col_heading level0 col29\" >Martial Arts</th>\n",
       "      <th id=\"T_14c0d_level0_col30\" class=\"col_heading level0 col30\" >Psychological</th>\n",
       "      <th id=\"T_14c0d_level0_col31\" class=\"col_heading level0 col31\" >Dementia</th>\n",
       "      <th id=\"T_14c0d_level0_col32\" class=\"col_heading level0 col32\" >Police</th>\n",
       "      <th id=\"T_14c0d_level0_col33\" class=\"col_heading level0 col33\" >Game</th>\n",
       "      <th id=\"T_14c0d_level0_col34\" class=\"col_heading level0 col34\" >Samurai</th>\n",
       "      <th id=\"T_14c0d_level0_col35\" class=\"col_heading level0 col35\" >Vampire</th>\n",
       "      <th id=\"T_14c0d_level0_col36\" class=\"col_heading level0 col36\" >Thriller</th>\n",
       "      <th id=\"T_14c0d_level0_col37\" class=\"col_heading level0 col37\" >Cars</th>\n",
       "      <th id=\"T_14c0d_level0_col38\" class=\"col_heading level0 col38\" >Shounen Ai</th>\n",
       "      <th id=\"T_14c0d_level0_col39\" class=\"col_heading level0 col39\" >Shoujo Ai</th>\n",
       "      <th id=\"T_14c0d_level0_col40\" class=\"col_heading level0 col40\" >Josei</th>\n",
       "      <th id=\"T_14c0d_level0_col41\" class=\"col_heading level0 col41\" >Yuri</th>\n",
       "      <th id=\"T_14c0d_level0_col42\" class=\"col_heading level0 col42\" >Yaoi</th>\n",
       "    </tr>\n",
       "  </thead>\n",
       "  <tbody>\n",
       "    <tr>\n",
       "      <th id=\"T_14c0d_level0_row0\" class=\"row_heading level0 row0\" >genre</th>\n",
       "      <td id=\"T_14c0d_row0_col0\" class=\"data row0 col0\" >4271</td>\n",
       "      <td id=\"T_14c0d_row0_col1\" class=\"data row0 col1\" >2686</td>\n",
       "      <td id=\"T_14c0d_row0_col2\" class=\"data row0 col2\" >2197</td>\n",
       "      <td id=\"T_14c0d_row0_col3\" class=\"data row0 col3\" >2107</td>\n",
       "      <td id=\"T_14c0d_row0_col4\" class=\"data row0 col4\" >1981</td>\n",
       "      <td id=\"T_14c0d_row0_col5\" class=\"data row0 col5\" >1857</td>\n",
       "      <td id=\"T_14c0d_row0_col6\" class=\"data row0 col6\" >1636</td>\n",
       "      <td id=\"T_14c0d_row0_col7\" class=\"data row0 col7\" >1420</td>\n",
       "      <td id=\"T_14c0d_row0_col8\" class=\"data row0 col8\" >1306</td>\n",
       "      <td id=\"T_14c0d_row0_col9\" class=\"data row0 col9\" >1135</td>\n",
       "      <td id=\"T_14c0d_row0_col10\" class=\"data row0 col10\" >1115</td>\n",
       "      <td id=\"T_14c0d_row0_col11\" class=\"data row0 col11\" >1095</td>\n",
       "      <td id=\"T_14c0d_row0_col12\" class=\"data row0 col12\" >964</td>\n",
       "      <td id=\"T_14c0d_row0_col13\" class=\"data row0 col13\" >910</td>\n",
       "      <td id=\"T_14c0d_row0_col14\" class=\"data row0 col14\" >763</td>\n",
       "      <td id=\"T_14c0d_row0_col15\" class=\"data row0 col15\" >719</td>\n",
       "      <td id=\"T_14c0d_row0_col16\" class=\"data row0 col16\" >712</td>\n",
       "      <td id=\"T_14c0d_row0_col17\" class=\"data row0 col17\" >619</td>\n",
       "      <td id=\"T_14c0d_row0_col18\" class=\"data row0 col18\" >576</td>\n",
       "      <td id=\"T_14c0d_row0_col19\" class=\"data row0 col19\" >513</td>\n",
       "      <td id=\"T_14c0d_row0_col20\" class=\"data row0 col20\" >508</td>\n",
       "      <td id=\"T_14c0d_row0_col21\" class=\"data row0 col21\" >472</td>\n",
       "      <td id=\"T_14c0d_row0_col22\" class=\"data row0 col22\" >433</td>\n",
       "      <td id=\"T_14c0d_row0_col23\" class=\"data row0 col23\" >410</td>\n",
       "      <td id=\"T_14c0d_row0_col24\" class=\"data row0 col24\" >379</td>\n",
       "      <td id=\"T_14c0d_row0_col25\" class=\"data row0 col25\" >362</td>\n",
       "      <td id=\"T_14c0d_row0_col26\" class=\"data row0 col26\" >348</td>\n",
       "      <td id=\"T_14c0d_row0_col27\" class=\"data row0 col27\" >306</td>\n",
       "      <td id=\"T_14c0d_row0_col28\" class=\"data row0 col28\" >279</td>\n",
       "      <td id=\"T_14c0d_row0_col29\" class=\"data row0 col29\" >246</td>\n",
       "      <td id=\"T_14c0d_row0_col30\" class=\"data row0 col30\" >221</td>\n",
       "      <td id=\"T_14c0d_row0_col31\" class=\"data row0 col31\" >200</td>\n",
       "      <td id=\"T_14c0d_row0_col32\" class=\"data row0 col32\" >183</td>\n",
       "      <td id=\"T_14c0d_row0_col33\" class=\"data row0 col33\" >161</td>\n",
       "      <td id=\"T_14c0d_row0_col34\" class=\"data row0 col34\" >142</td>\n",
       "      <td id=\"T_14c0d_row0_col35\" class=\"data row0 col35\" >97</td>\n",
       "      <td id=\"T_14c0d_row0_col36\" class=\"data row0 col36\" >84</td>\n",
       "      <td id=\"T_14c0d_row0_col37\" class=\"data row0 col37\" >65</td>\n",
       "      <td id=\"T_14c0d_row0_col38\" class=\"data row0 col38\" >61</td>\n",
       "      <td id=\"T_14c0d_row0_col39\" class=\"data row0 col39\" >54</td>\n",
       "      <td id=\"T_14c0d_row0_col40\" class=\"data row0 col40\" >52</td>\n",
       "      <td id=\"T_14c0d_row0_col41\" class=\"data row0 col41\" >41</td>\n",
       "      <td id=\"T_14c0d_row0_col42\" class=\"data row0 col42\" >37</td>\n",
       "    </tr>\n",
       "  </tbody>\n",
       "</table>\n"
      ],
      "text/plain": [
       "<pandas.io.formats.style.Styler at 0x1d007688df0>"
      ]
     },
     "execution_count": 44,
     "metadata": {},
     "output_type": "execute_result"
    }
   ],
   "source": [
    "topanime_community_temp3 = topanime_community[[\"genre\"]]\n",
    "topanime_community_temp3[\"genre\"] = topanime_community_temp3[\"genre\"].str.split(\", | , | ,\")\n",
    "topanime_community_temp3 = topanime_community_temp3.explode(\"genre\")\n",
    "topanime_community_temp3[\"genre\"] = topanime_community_temp3[\"genre\"].str.title()\n",
    "\n",
    "print(f'Total unique genres are {len(topanime_community_temp3[\"genre\"].unique())}')\n",
    "print(f'Occurances of unique genres :')\n",
    "topanime_community_temp3[\"genre\"].value_counts().to_frame().T.style.set_properties(**{\"color\":\"black\",\"border\": \"1.5px  solid black\"})"
   ]
  },
  {
   "cell_type": "markdown",
   "id": "252f9242",
   "metadata": {},
   "source": [
    "# CATEGORIES"
   ]
  },
  {
   "cell_type": "code",
   "execution_count": 45,
   "id": "68eca44f",
   "metadata": {},
   "outputs": [
    {
     "name": "stdout",
     "output_type": "stream",
     "text": [
      "Anime Categories :\n"
     ]
    },
    {
     "data": {
      "text/html": [
       "<style type=\"text/css\">\n",
       "#T_61bb0_row0_col0, #T_61bb0_row0_col1, #T_61bb0_row0_col2, #T_61bb0_row0_col3, #T_61bb0_row0_col4, #T_61bb0_row0_col5 {\n",
       "  color: black;\n",
       "  border: 1.5px  solid black;\n",
       "}\n",
       "</style>\n",
       "<table id=\"T_61bb0\">\n",
       "  <thead>\n",
       "    <tr>\n",
       "      <th class=\"blank level0\" >&nbsp;</th>\n",
       "      <th id=\"T_61bb0_level0_col0\" class=\"col_heading level0 col0\" >TV</th>\n",
       "      <th id=\"T_61bb0_level0_col1\" class=\"col_heading level0 col1\" >OVA</th>\n",
       "      <th id=\"T_61bb0_level0_col2\" class=\"col_heading level0 col2\" >Movie</th>\n",
       "      <th id=\"T_61bb0_level0_col3\" class=\"col_heading level0 col3\" >Special</th>\n",
       "      <th id=\"T_61bb0_level0_col4\" class=\"col_heading level0 col4\" >ONA</th>\n",
       "      <th id=\"T_61bb0_level0_col5\" class=\"col_heading level0 col5\" >Music</th>\n",
       "    </tr>\n",
       "  </thead>\n",
       "  <tbody>\n",
       "    <tr>\n",
       "      <th id=\"T_61bb0_level0_row0\" class=\"row_heading level0 row0\" >type</th>\n",
       "      <td id=\"T_61bb0_row0_col0\" class=\"data row0 col0\" >3402</td>\n",
       "      <td id=\"T_61bb0_row0_col1\" class=\"data row0 col1\" >3090</td>\n",
       "      <td id=\"T_61bb0_row0_col2\" class=\"data row0 col2\" >2111</td>\n",
       "      <td id=\"T_61bb0_row0_col3\" class=\"data row0 col3\" >1581</td>\n",
       "      <td id=\"T_61bb0_row0_col4\" class=\"data row0 col4\" >526</td>\n",
       "      <td id=\"T_61bb0_row0_col5\" class=\"data row0 col5\" >451</td>\n",
       "    </tr>\n",
       "  </tbody>\n",
       "</table>\n"
      ],
      "text/plain": [
       "<pandas.io.formats.style.Styler at 0x1d0077c8640>"
      ]
     },
     "execution_count": 45,
     "metadata": {},
     "output_type": "execute_result"
    }
   ],
   "source": [
    "print(\"Anime Categories :\")\n",
    "topanime_community_temp1[\"type\"].value_counts().to_frame().T.style.set_properties(**{\"color\":\"black\",\"border\": \"1.5px  solid black\"})"
   ]
  },
  {
   "cell_type": "code",
   "execution_count": 47,
   "id": "b9094569",
   "metadata": {},
   "outputs": [
    {
     "data": {
      "image/png": "[encoded data removed]",
      "text/plain": [
       "<Figure size 1200x1200 with 1 Axes>"
      ]
     },
     "metadata": {},
     "output_type": "display_data"
    }
   ],
   "source": [
    "plt.subplots(figsize=(12, 12))\n",
    "\n",
    "labels = \"TV\",\"OVA\",\"Movie\",\"Special\",\"ONA\",\"Music\"\n",
    "size = 0.5\n",
    "\n",
    "wedges, texts, autotexts = plt.pie([len(topanime_community_temp1[topanime_community_temp1[\"type\"]==\"TV\"][\"type\"]),\n",
    "                                    len(topanime_community_temp1[topanime_community_temp1[\"type\"]==\"OVA\"][\"type\"]),\n",
    "                                    len(topanime_community_temp1[topanime_community_temp1[\"type\"]==\"Movie\"][\"type\"]),\n",
    "                                    len(topanime_community_temp1[topanime_community_temp1[\"type\"]==\"Special\"][\"type\"]),\n",
    "                                    len(topanime_community_temp1[topanime_community_temp1[\"type\"]==\"ONA\"][\"type\"]),\n",
    "                                    len(topanime_community_temp1[topanime_community_temp1[\"type\"]==\"Music\"][\"type\"])],\n",
    "                                    explode = (0,0,0,0,0,0),\n",
    "                                    textprops=dict(size= 20, color= \"white\"),\n",
    "                                    autopct=\"%.2f%%\", \n",
    "                                    pctdistance = 0.7,\n",
    "                                    radius=.9, \n",
    "                                    colors = palette, \n",
    "                                    shadow = True,\n",
    "                                    wedgeprops=dict(width = size, edgecolor = \"#1c1c1c\", \n",
    "                                    linewidth = 4),\n",
    "                                    startangle = 0)\n",
    "\n",
    "plt.legend(wedges, labels, title=\"Category\",loc=\"center left\",bbox_to_anchor=(1, 0, 0.5, 1))\n",
    "plt.title(\"\\nAnime Categories Distribution\",fontsize=20)\n",
    "plt.show()\n",
    "\n",
    "\n",
    "#3402 animes are aired on TV which is 30.48% of total animes\n",
    "#2111 animes are streamed as Movie which is 18.91% of total animes\n",
    "#3090 animes are streamed as OVA which is 27.69% of total animes also greater than ONA which includes 526 animes that is 4.71% of total animes."
   ]
  },
  {
   "cell_type": "code",
   "execution_count": 48,
   "id": "d5b79a09",
   "metadata": {},
   "outputs": [
    {
     "name": "stdout",
     "output_type": "stream",
     "text": [
      "Null values after final pre-processing :\n"
     ]
    },
    {
     "data": {
      "text/html": [
       "<style type=\"text/css\">\n",
       "</style>\n",
       "<table id=\"T_bb6a5\">\n",
       "  <thead>\n",
       "    <tr>\n",
       "      <th class=\"blank level0\" >&nbsp;</th>\n",
       "      <th id=\"T_bb6a5_level0_col0\" class=\"col_heading level0 col0\" >anime_id</th>\n",
       "      <th id=\"T_bb6a5_level0_col1\" class=\"col_heading level0 col1\" >name</th>\n",
       "      <th id=\"T_bb6a5_level0_col2\" class=\"col_heading level0 col2\" >genre</th>\n",
       "      <th id=\"T_bb6a5_level0_col3\" class=\"col_heading level0 col3\" >type</th>\n",
       "      <th id=\"T_bb6a5_level0_col4\" class=\"col_heading level0 col4\" >episodes</th>\n",
       "      <th id=\"T_bb6a5_level0_col5\" class=\"col_heading level0 col5\" >rating</th>\n",
       "      <th id=\"T_bb6a5_level0_col6\" class=\"col_heading level0 col6\" >members</th>\n",
       "      <th id=\"T_bb6a5_level0_col7\" class=\"col_heading level0 col7\" >user_id</th>\n",
       "      <th id=\"T_bb6a5_level0_col8\" class=\"col_heading level0 col8\" >user_rating</th>\n",
       "    </tr>\n",
       "  </thead>\n",
       "  <tbody>\n",
       "    <tr>\n",
       "      <th id=\"T_bb6a5_level0_row0\" class=\"row_heading level0 row0\" >0</th>\n",
       "      <td id=\"T_bb6a5_row0_col0\" class=\"data row0 col0\" >0</td>\n",
       "      <td id=\"T_bb6a5_row0_col1\" class=\"data row0 col1\" >0</td>\n",
       "      <td id=\"T_bb6a5_row0_col2\" class=\"data row0 col2\" >0</td>\n",
       "      <td id=\"T_bb6a5_row0_col3\" class=\"data row0 col3\" >0</td>\n",
       "      <td id=\"T_bb6a5_row0_col4\" class=\"data row0 col4\" >0</td>\n",
       "      <td id=\"T_bb6a5_row0_col5\" class=\"data row0 col5\" >0</td>\n",
       "      <td id=\"T_bb6a5_row0_col6\" class=\"data row0 col6\" >0</td>\n",
       "      <td id=\"T_bb6a5_row0_col7\" class=\"data row0 col7\" >0</td>\n",
       "      <td id=\"T_bb6a5_row0_col8\" class=\"data row0 col8\" >0</td>\n",
       "    </tr>\n",
       "  </tbody>\n",
       "</table>\n"
      ],
      "text/plain": [
       "<pandas.io.formats.style.Styler at 0x1d0067a3e20>"
      ]
     },
     "execution_count": 48,
     "metadata": {},
     "output_type": "execute_result"
    }
   ],
   "source": [
    "data = merge_anime_data.copy()\n",
    "data[\"user_rating\"].replace(to_replace = -1 , value = np.nan ,inplace=True)\n",
    "data = data.dropna(axis = 0)\n",
    "print(\"Null values after final pre-processing :\")\n",
    "data.isna().sum().to_frame().T.style.set_properties()"
   ]
  },
  {
   "cell_type": "markdown",
   "id": "bb395a19",
   "metadata": {},
   "source": [
    "# CLEANIG THE merge_anime_data DATASET\n",
    "\n",
    "First, it creates a copy of the original dataset and stores it in a variable called data. This is to avoid modifying the original dataset in case we need to refer back to it later.\n",
    "\n",
    "Next, it replaces all the values of -1 in the \"user_rating\" column with NaN values. NaN stands for \"not a number\" and is a way of representing missing or undefined data in pandas.\n",
    "\n",
    "After that, it drops any rows in the dataset that contain NaN values. This is because missing data can cause problems when analyzing or modeling the data, and it's often better to remove those rows instead of trying to fill in the missing values.\n",
    "\n",
    "Finally, it prints out the number of null values (i.e., missing values) in the resulting dataset to make sure that there are no more missing values after the cleaning process."
   ]
  },
  {
   "cell_type": "code",
   "execution_count": 49,
   "id": "718cebbf",
   "metadata": {},
   "outputs": [],
   "source": [
    "selected_users = data[\"user_id\"].value_counts()\n",
    "data = data[data[\"user_id\"].isin(selected_users[selected_users >= 50].index)]\n",
    "\n",
    "\n",
    "# this line of code is used to filter the data DataFrame by selecting only the \n",
    "# users who have rated at least 50 anime. This is a common preprocessing step when \n",
    "# building a recommendation system, as it helps to focus on the users who have provided \n",
    "# enough data to make reliable recommendations."
   ]
  },
  {
   "cell_type": "code",
   "execution_count": 50,
   "id": "2eacbd99",
   "metadata": {},
   "outputs": [
    {
     "data": {
      "text/html": [
       "<div>\n",
       "<style scoped>\n",
       "    .dataframe tbody tr th:only-of-type {\n",
       "        vertical-align: middle;\n",
       "    }\n",
       "\n",
       "    .dataframe tbody tr th {\n",
       "        vertical-align: top;\n",
       "    }\n",
       "\n",
       "    .dataframe thead th {\n",
       "        text-align: right;\n",
       "    }\n",
       "</style>\n",
       "<table border=\"1\" class=\"dataframe\">\n",
       "  <thead>\n",
       "    <tr style=\"text-align: right;\">\n",
       "      <th>user_id</th>\n",
       "      <th>3</th>\n",
       "      <th>5</th>\n",
       "      <th>7</th>\n",
       "      <th>11</th>\n",
       "      <th>14</th>\n",
       "      <th>17</th>\n",
       "      <th>21</th>\n",
       "      <th>23</th>\n",
       "      <th>24</th>\n",
       "      <th>27</th>\n",
       "      <th>...</th>\n",
       "      <th>73495</th>\n",
       "      <th>73499</th>\n",
       "      <th>73500</th>\n",
       "      <th>73501</th>\n",
       "      <th>73502</th>\n",
       "      <th>73503</th>\n",
       "      <th>73504</th>\n",
       "      <th>73507</th>\n",
       "      <th>73510</th>\n",
       "      <th>73515</th>\n",
       "    </tr>\n",
       "    <tr>\n",
       "      <th>name</th>\n",
       "      <th></th>\n",
       "      <th></th>\n",
       "      <th></th>\n",
       "      <th></th>\n",
       "      <th></th>\n",
       "      <th></th>\n",
       "      <th></th>\n",
       "      <th></th>\n",
       "      <th></th>\n",
       "      <th></th>\n",
       "      <th></th>\n",
       "      <th></th>\n",
       "      <th></th>\n",
       "      <th></th>\n",
       "      <th></th>\n",
       "      <th></th>\n",
       "      <th></th>\n",
       "      <th></th>\n",
       "      <th></th>\n",
       "      <th></th>\n",
       "      <th></th>\n",
       "    </tr>\n",
       "  </thead>\n",
       "  <tbody>\n",
       "    <tr>\n",
       "      <th>&amp;quot;0&amp;quot;</th>\n",
       "      <td>0</td>\n",
       "      <td>0</td>\n",
       "      <td>0</td>\n",
       "      <td>0</td>\n",
       "      <td>0</td>\n",
       "      <td>0</td>\n",
       "      <td>0</td>\n",
       "      <td>0</td>\n",
       "      <td>0</td>\n",
       "      <td>0</td>\n",
       "      <td>...</td>\n",
       "      <td>0</td>\n",
       "      <td>0</td>\n",
       "      <td>0</td>\n",
       "      <td>0</td>\n",
       "      <td>0</td>\n",
       "      <td>0</td>\n",
       "      <td>0</td>\n",
       "      <td>0</td>\n",
       "      <td>0</td>\n",
       "      <td>0</td>\n",
       "    </tr>\n",
       "    <tr>\n",
       "      <th>&amp;quot;Bungaku Shoujo&amp;quot; Kyou no Oyatsu: Hatsukoi</th>\n",
       "      <td>0</td>\n",
       "      <td>0</td>\n",
       "      <td>0</td>\n",
       "      <td>0</td>\n",
       "      <td>0</td>\n",
       "      <td>0</td>\n",
       "      <td>0</td>\n",
       "      <td>0</td>\n",
       "      <td>0</td>\n",
       "      <td>0</td>\n",
       "      <td>...</td>\n",
       "      <td>0</td>\n",
       "      <td>0</td>\n",
       "      <td>0</td>\n",
       "      <td>0</td>\n",
       "      <td>10</td>\n",
       "      <td>0</td>\n",
       "      <td>0</td>\n",
       "      <td>0</td>\n",
       "      <td>0</td>\n",
       "      <td>0</td>\n",
       "    </tr>\n",
       "    <tr>\n",
       "      <th>&amp;quot;Bungaku Shoujo&amp;quot; Memoire</th>\n",
       "      <td>0</td>\n",
       "      <td>0</td>\n",
       "      <td>0</td>\n",
       "      <td>0</td>\n",
       "      <td>0</td>\n",
       "      <td>0</td>\n",
       "      <td>0</td>\n",
       "      <td>0</td>\n",
       "      <td>0</td>\n",
       "      <td>0</td>\n",
       "      <td>...</td>\n",
       "      <td>0</td>\n",
       "      <td>0</td>\n",
       "      <td>0</td>\n",
       "      <td>0</td>\n",
       "      <td>0</td>\n",
       "      <td>0</td>\n",
       "      <td>0</td>\n",
       "      <td>0</td>\n",
       "      <td>6</td>\n",
       "      <td>0</td>\n",
       "    </tr>\n",
       "    <tr>\n",
       "      <th>&amp;quot;Bungaku Shoujo&amp;quot; Movie</th>\n",
       "      <td>0</td>\n",
       "      <td>0</td>\n",
       "      <td>0</td>\n",
       "      <td>0</td>\n",
       "      <td>8</td>\n",
       "      <td>0</td>\n",
       "      <td>0</td>\n",
       "      <td>0</td>\n",
       "      <td>0</td>\n",
       "      <td>0</td>\n",
       "      <td>...</td>\n",
       "      <td>0</td>\n",
       "      <td>0</td>\n",
       "      <td>0</td>\n",
       "      <td>0</td>\n",
       "      <td>10</td>\n",
       "      <td>0</td>\n",
       "      <td>0</td>\n",
       "      <td>0</td>\n",
       "      <td>0</td>\n",
       "      <td>0</td>\n",
       "    </tr>\n",
       "    <tr>\n",
       "      <th>&amp;quot;Eiji&amp;quot;</th>\n",
       "      <td>0</td>\n",
       "      <td>0</td>\n",
       "      <td>0</td>\n",
       "      <td>0</td>\n",
       "      <td>0</td>\n",
       "      <td>0</td>\n",
       "      <td>0</td>\n",
       "      <td>0</td>\n",
       "      <td>0</td>\n",
       "      <td>0</td>\n",
       "      <td>...</td>\n",
       "      <td>0</td>\n",
       "      <td>0</td>\n",
       "      <td>0</td>\n",
       "      <td>0</td>\n",
       "      <td>0</td>\n",
       "      <td>0</td>\n",
       "      <td>0</td>\n",
       "      <td>0</td>\n",
       "      <td>0</td>\n",
       "      <td>0</td>\n",
       "    </tr>\n",
       "  </tbody>\n",
       "</table>\n",
       "<p>5 rows × 32967 columns</p>\n",
       "</div>"
      ],
      "text/plain": [
       "user_id                                             3      5      7      \\\n",
       "name                                                                      \n",
       "&quot;0&quot;                                           0      0      0   \n",
       "&quot;Bungaku Shoujo&quot; Kyou no Oyatsu: Hats...      0      0      0   \n",
       "&quot;Bungaku Shoujo&quot; Memoire                      0      0      0   \n",
       "&quot;Bungaku Shoujo&quot; Movie                        0      0      0   \n",
       "&quot;Eiji&quot;                                        0      0      0   \n",
       "\n",
       "user_id                                             11     14     17     \\\n",
       "name                                                                      \n",
       "&quot;0&quot;                                           0      0      0   \n",
       "&quot;Bungaku Shoujo&quot; Kyou no Oyatsu: Hats...      0      0      0   \n",
       "&quot;Bungaku Shoujo&quot; Memoire                      0      0      0   \n",
       "&quot;Bungaku Shoujo&quot; Movie                        0      8      0   \n",
       "&quot;Eiji&quot;                                        0      0      0   \n",
       "\n",
       "user_id                                             21     23     24     \\\n",
       "name                                                                      \n",
       "&quot;0&quot;                                           0      0      0   \n",
       "&quot;Bungaku Shoujo&quot; Kyou no Oyatsu: Hats...      0      0      0   \n",
       "&quot;Bungaku Shoujo&quot; Memoire                      0      0      0   \n",
       "&quot;Bungaku Shoujo&quot; Movie                        0      0      0   \n",
       "&quot;Eiji&quot;                                        0      0      0   \n",
       "\n",
       "user_id                                             27     ...  73495  73499  \\\n",
       "name                                                       ...                 \n",
       "&quot;0&quot;                                           0  ...      0      0   \n",
       "&quot;Bungaku Shoujo&quot; Kyou no Oyatsu: Hats...      0  ...      0      0   \n",
       "&quot;Bungaku Shoujo&quot; Memoire                      0  ...      0      0   \n",
       "&quot;Bungaku Shoujo&quot; Movie                        0  ...      0      0   \n",
       "&quot;Eiji&quot;                                        0  ...      0      0   \n",
       "\n",
       "user_id                                             73500  73501  73502  \\\n",
       "name                                                                      \n",
       "&quot;0&quot;                                           0      0      0   \n",
       "&quot;Bungaku Shoujo&quot; Kyou no Oyatsu: Hats...      0      0     10   \n",
       "&quot;Bungaku Shoujo&quot; Memoire                      0      0      0   \n",
       "&quot;Bungaku Shoujo&quot; Movie                        0      0     10   \n",
       "&quot;Eiji&quot;                                        0      0      0   \n",
       "\n",
       "user_id                                             73503  73504  73507  \\\n",
       "name                                                                      \n",
       "&quot;0&quot;                                           0      0      0   \n",
       "&quot;Bungaku Shoujo&quot; Kyou no Oyatsu: Hats...      0      0      0   \n",
       "&quot;Bungaku Shoujo&quot; Memoire                      0      0      0   \n",
       "&quot;Bungaku Shoujo&quot; Movie                        0      0      0   \n",
       "&quot;Eiji&quot;                                        0      0      0   \n",
       "\n",
       "user_id                                             73510  73515  \n",
       "name                                                              \n",
       "&quot;0&quot;                                           0      0  \n",
       "&quot;Bungaku Shoujo&quot; Kyou no Oyatsu: Hats...      0      0  \n",
       "&quot;Bungaku Shoujo&quot; Memoire                      6      0  \n",
       "&quot;Bungaku Shoujo&quot; Movie                        0      0  \n",
       "&quot;Eiji&quot;                                        0      0  \n",
       "\n",
       "[5 rows x 32967 columns]"
      ]
     },
     "execution_count": 50,
     "metadata": {},
     "output_type": "execute_result"
    }
   ],
   "source": [
    "cosine_stuff = pd.pivot_table(data, values='user_rating', index=['name'], columns=['user_id'], fill_value=0)\n",
    "cosine_stuff.head()"
   ]
  },
  {
   "cell_type": "code",
   "execution_count": 51,
   "id": "281a5429",
   "metadata": {},
   "outputs": [],
   "source": [
    "from sklearn.feature_extraction.text import TfidfVectorizer"
   ]
  },
  {
   "cell_type": "code",
   "execution_count": 52,
   "id": "a252f2dd",
   "metadata": {},
   "outputs": [],
   "source": [
    "# Define the TfidfVectorizer with desired parameters\n",
    "tfv = TfidfVectorizer(min_df=3, max_features=None, strip_accents=\"unicode\", analyzer=\"word\",\n",
    "                      token_pattern=r\"\\w{1,}\", ngram_range=(1, 3), stop_words = \"english\")\n",
    "\n",
    "# Create a copy of the data and remove duplicate anime names\n",
    "rec_data = merge_anime_data.copy()\n",
    "rec_data.drop_duplicates(subset=\"name\", keep=\"first\", inplace=True)\n",
    "rec_data.reset_index(drop=True, inplace=True)\n",
    "\n",
    "# Split the genre strings and convert them to a string datatype\n",
    "genres = rec_data[\"genre\"].str.split(\", | , | ,\").astype(str)\n",
    "\n",
    "# Use the TfidfVectorizer to create a matrix of genre feature vectors\n",
    "tfv_matrix = tfv.fit_transform(genres)\n"
   ]
  },
  {
   "cell_type": "code",
   "execution_count": 53,
   "id": "e6babf1b",
   "metadata": {},
   "outputs": [],
   "source": [
    "from sklearn.feature_extraction.text import TfidfVectorizer\n",
    "from sklearn.metrics.pairwise import sigmoid_kernel\n",
    "\n",
    "# Vectorize the genres column\n",
    "tfv = TfidfVectorizer(min_df=3, max_features=None, strip_accents=\"unicode\", analyzer=\"word\",\n",
    "                      token_pattern=r\"\\w{1,}\", ngram_range=(1, 3), stop_words=\"english\")\n",
    "tfv_matrix = tfv.fit_transform(rec_data[\"genre\"].astype(str))\n",
    "\n",
    "# Compute sigmoid kernel\n",
    "sig = sigmoid_kernel(tfv_matrix, tfv_matrix)\n",
    "\n",
    "# Create a mapping of anime titles to their corresponding index in the rec_data DataFrame\n",
    "rec_indices = pd.Series(rec_data.index, index=rec_data[\"name\"]).drop_duplicates()\n",
    "\n",
    "# Define recommendation function\n",
    "def give_recommendation(title, sig=sig, rec_indices=rec_indices, anime_info=rec_data):\n",
    "    \n",
    "    # Get the index of the given anime title\n",
    "    idx = rec_indices[title]\n",
    "    \n",
    "    # Compute pairwise sigmoid kernel similarity scores between the given anime and all other anime\n",
    "    sig_score = list(enumerate(sig[idx]))\n",
    "    \n",
    "    # Sort the similarity scores in descending order and select the top 10 similar anime\n",
    "    sig_score = sorted(sig_score, key=lambda x: x[1], reverse=True)\n",
    "    sig_score = sig_score[1:11]\n",
    "    anime_indices = [i[0] for i in sig_score]\n",
    "     \n",
    "    # Create a DataFrame of the top 10 similar anime\n",
    "    rec_dic = {\"No\": range(1, 11), \n",
    "               \"Anime Name\": anime_info[\"name\"].iloc[anime_indices].values,\n",
    "               \"Rating\": anime_info[\"rating\"].iloc[anime_indices].values}\n",
    "    dataframe = pd.DataFrame(data=rec_dic)\n",
    "    dataframe.set_index(\"No\", inplace=True) \n",
    "    #data frame created\n",
    "    \n",
    "    # Print the recommendations for the given anime title\n",
    "    print(f\"Recommendations for {title} viewers:\\n\")\n",
    "    return dataframe.style.set_properties(**{\"color\":\"black\",\"border\": \"1.5px solid black\"})\n"
   ]
  },
  {
   "cell_type": "markdown",
   "id": "895f5338",
   "metadata": {},
   "source": [
    "this creates a function that uses sigmoid kernel to find similar anime. \n",
    "A sigmoid kernel is a mathematical formula used to measure the similarity between two sets of data.\n",
    "\n",
    "The code first computes the sigmoid kernel for a matrix created using the anime genre information. \n",
    "It then defines a recommendation function that takes an anime title as input and returns \n",
    "the top 10 anime with the highest similarity score to the input anime based on the sigmoid kernel."
   ]
  },
  {
   "cell_type": "code",
   "execution_count": 54,
   "id": "2bc90fb9",
   "metadata": {},
   "outputs": [
    {
     "name": "stdout",
     "output_type": "stream",
     "text": [
      "Recommendations for Gintama viewers:\n",
      "\n"
     ]
    },
    {
     "data": {
      "text/html": [
       "<style type=\"text/css\">\n",
       "#T_59da4_row0_col0, #T_59da4_row0_col1, #T_59da4_row1_col0, #T_59da4_row1_col1, #T_59da4_row2_col0, #T_59da4_row2_col1, #T_59da4_row3_col0, #T_59da4_row3_col1, #T_59da4_row4_col0, #T_59da4_row4_col1, #T_59da4_row5_col0, #T_59da4_row5_col1, #T_59da4_row6_col0, #T_59da4_row6_col1, #T_59da4_row7_col0, #T_59da4_row7_col1, #T_59da4_row8_col0, #T_59da4_row8_col1, #T_59da4_row9_col0, #T_59da4_row9_col1 {\n",
       "  color: black;\n",
       "  border: 1.5px solid black;\n",
       "}\n",
       "</style>\n",
       "<table id=\"T_59da4\">\n",
       "  <thead>\n",
       "    <tr>\n",
       "      <th class=\"blank level0\" >&nbsp;</th>\n",
       "      <th id=\"T_59da4_level0_col0\" class=\"col_heading level0 col0\" >Anime Name</th>\n",
       "      <th id=\"T_59da4_level0_col1\" class=\"col_heading level0 col1\" >Rating</th>\n",
       "    </tr>\n",
       "    <tr>\n",
       "      <th class=\"index_name level0\" >No</th>\n",
       "      <th class=\"blank col0\" >&nbsp;</th>\n",
       "      <th class=\"blank col1\" >&nbsp;</th>\n",
       "    </tr>\n",
       "  </thead>\n",
       "  <tbody>\n",
       "    <tr>\n",
       "      <th id=\"T_59da4_level0_row0\" class=\"row_heading level0 row0\" >1</th>\n",
       "      <td id=\"T_59da4_row0_col0\" class=\"data row0 col0\" >Gintama&#039;</td>\n",
       "      <td id=\"T_59da4_row0_col1\" class=\"data row0 col1\" >9.160000</td>\n",
       "    </tr>\n",
       "    <tr>\n",
       "      <th id=\"T_59da4_level0_row1\" class=\"row_heading level0 row1\" >2</th>\n",
       "      <td id=\"T_59da4_row1_col0\" class=\"data row1 col0\" >Gintama Movie: Kanketsu-hen - Yorozuya yo Eien Nare</td>\n",
       "      <td id=\"T_59da4_row1_col1\" class=\"data row1 col1\" >9.100000</td>\n",
       "    </tr>\n",
       "    <tr>\n",
       "      <th id=\"T_59da4_level0_row2\" class=\"row_heading level0 row2\" >3</th>\n",
       "      <td id=\"T_59da4_row2_col0\" class=\"data row2 col0\" >Gintama&#039;: Enchousen</td>\n",
       "      <td id=\"T_59da4_row2_col1\" class=\"data row2 col1\" >9.110000</td>\n",
       "    </tr>\n",
       "    <tr>\n",
       "      <th id=\"T_59da4_level0_row3\" class=\"row_heading level0 row3\" >4</th>\n",
       "      <td id=\"T_59da4_row3_col0\" class=\"data row3 col0\" >Gintama</td>\n",
       "      <td id=\"T_59da4_row3_col1\" class=\"data row3 col1\" >9.040000</td>\n",
       "    </tr>\n",
       "    <tr>\n",
       "      <th id=\"T_59da4_level0_row4\" class=\"row_heading level0 row4\" >5</th>\n",
       "      <td id=\"T_59da4_row4_col0\" class=\"data row4 col0\" >Gintama: Yorinuki Gintama-san on Theater 2D</td>\n",
       "      <td id=\"T_59da4_row4_col1\" class=\"data row4 col1\" >8.600000</td>\n",
       "    </tr>\n",
       "    <tr>\n",
       "      <th id=\"T_59da4_level0_row5\" class=\"row_heading level0 row5\" >6</th>\n",
       "      <td id=\"T_59da4_row5_col0\" class=\"data row5 col0\" >Gintama Movie: Shinyaku Benizakura-hen</td>\n",
       "      <td id=\"T_59da4_row5_col1\" class=\"data row5 col1\" >8.590000</td>\n",
       "    </tr>\n",
       "    <tr>\n",
       "      <th id=\"T_59da4_level0_row6\" class=\"row_heading level0 row6\" >7</th>\n",
       "      <td id=\"T_59da4_row6_col0\" class=\"data row6 col0\" >Gintama: Shinyaku Benizakura-hen</td>\n",
       "      <td id=\"T_59da4_row6_col1\" class=\"data row6 col1\" >8.310000</td>\n",
       "    </tr>\n",
       "    <tr>\n",
       "      <th id=\"T_59da4_level0_row7\" class=\"row_heading level0 row7\" >8</th>\n",
       "      <td id=\"T_59da4_row7_col0\" class=\"data row7 col0\" >Gintama: Jump Festa 2014 Special</td>\n",
       "      <td id=\"T_59da4_row7_col1\" class=\"data row7 col1\" >8.200000</td>\n",
       "    </tr>\n",
       "    <tr>\n",
       "      <th id=\"T_59da4_level0_row8\" class=\"row_heading level0 row8\" >9</th>\n",
       "      <td id=\"T_59da4_row8_col0\" class=\"data row8 col0\" >Gintama: Jump Festa 2015 Special</td>\n",
       "      <td id=\"T_59da4_row8_col1\" class=\"data row8 col1\" >8.150000</td>\n",
       "    </tr>\n",
       "    <tr>\n",
       "      <th id=\"T_59da4_level0_row9\" class=\"row_heading level0 row9\" >10</th>\n",
       "      <td id=\"T_59da4_row9_col0\" class=\"data row9 col0\" >Gintama: Nanigoto mo Saiyo ga Kanjin nano de Tasho Senobisuru Kurai ga Choudoyoi</td>\n",
       "      <td id=\"T_59da4_row9_col1\" class=\"data row9 col1\" >8.130000</td>\n",
       "    </tr>\n",
       "  </tbody>\n",
       "</table>\n"
      ],
      "text/plain": [
       "<pandas.io.formats.style.Styler at 0x1d007250910>"
      ]
     },
     "execution_count": 54,
     "metadata": {},
     "output_type": "execute_result"
    }
   ],
   "source": [
    "give_recommendation(\"Gintama\")"
   ]
  },
  {
   "cell_type": "code",
   "execution_count": 55,
   "id": "dfa9d0fb",
   "metadata": {},
   "outputs": [
    {
     "name": "stdout",
     "output_type": "stream",
     "text": [
      "Recommendations for Death Note viewers:\n",
      "\n"
     ]
    },
    {
     "data": {
      "text/html": [
       "<style type=\"text/css\">\n",
       "#T_84cc0_row0_col0, #T_84cc0_row0_col1, #T_84cc0_row1_col0, #T_84cc0_row1_col1, #T_84cc0_row2_col0, #T_84cc0_row2_col1, #T_84cc0_row3_col0, #T_84cc0_row3_col1, #T_84cc0_row4_col0, #T_84cc0_row4_col1, #T_84cc0_row5_col0, #T_84cc0_row5_col1, #T_84cc0_row6_col0, #T_84cc0_row6_col1, #T_84cc0_row7_col0, #T_84cc0_row7_col1, #T_84cc0_row8_col0, #T_84cc0_row8_col1, #T_84cc0_row9_col0, #T_84cc0_row9_col1 {\n",
       "  color: black;\n",
       "  border: 1.5px solid black;\n",
       "}\n",
       "</style>\n",
       "<table id=\"T_84cc0\">\n",
       "  <thead>\n",
       "    <tr>\n",
       "      <th class=\"blank level0\" >&nbsp;</th>\n",
       "      <th id=\"T_84cc0_level0_col0\" class=\"col_heading level0 col0\" >Anime Name</th>\n",
       "      <th id=\"T_84cc0_level0_col1\" class=\"col_heading level0 col1\" >Rating</th>\n",
       "    </tr>\n",
       "    <tr>\n",
       "      <th class=\"index_name level0\" >No</th>\n",
       "      <th class=\"blank col0\" >&nbsp;</th>\n",
       "      <th class=\"blank col1\" >&nbsp;</th>\n",
       "    </tr>\n",
       "  </thead>\n",
       "  <tbody>\n",
       "    <tr>\n",
       "      <th id=\"T_84cc0_level0_row0\" class=\"row_heading level0 row0\" >1</th>\n",
       "      <td id=\"T_84cc0_row0_col0\" class=\"data row0 col0\" >Death Note Rewrite</td>\n",
       "      <td id=\"T_84cc0_row0_col1\" class=\"data row0 col1\" >7.840000</td>\n",
       "    </tr>\n",
       "    <tr>\n",
       "      <th id=\"T_84cc0_level0_row1\" class=\"row_heading level0 row1\" >2</th>\n",
       "      <td id=\"T_84cc0_row1_col0\" class=\"data row1 col0\" >Mousou Dairinin</td>\n",
       "      <td id=\"T_84cc0_row1_col1\" class=\"data row1 col1\" >7.740000</td>\n",
       "    </tr>\n",
       "    <tr>\n",
       "      <th id=\"T_84cc0_level0_row2\" class=\"row_heading level0 row2\" >3</th>\n",
       "      <td id=\"T_84cc0_row2_col0\" class=\"data row2 col0\" >Higurashi no Naku Koro ni Kai</td>\n",
       "      <td id=\"T_84cc0_row2_col1\" class=\"data row2 col1\" >8.410000</td>\n",
       "    </tr>\n",
       "    <tr>\n",
       "      <th id=\"T_84cc0_level0_row3\" class=\"row_heading level0 row3\" >4</th>\n",
       "      <td id=\"T_84cc0_row3_col0\" class=\"data row3 col0\" >Higurashi no Naku Koro ni Rei</td>\n",
       "      <td id=\"T_84cc0_row3_col1\" class=\"data row3 col1\" >7.560000</td>\n",
       "    </tr>\n",
       "    <tr>\n",
       "      <th id=\"T_84cc0_level0_row4\" class=\"row_heading level0 row4\" >5</th>\n",
       "      <td id=\"T_84cc0_row4_col0\" class=\"data row4 col0\" >Bloody Night</td>\n",
       "      <td id=\"T_84cc0_row4_col1\" class=\"data row4 col1\" >4.260000</td>\n",
       "    </tr>\n",
       "    <tr>\n",
       "      <th id=\"T_84cc0_level0_row5\" class=\"row_heading level0 row5\" >6</th>\n",
       "      <td id=\"T_84cc0_row5_col0\" class=\"data row5 col0\" >Higurashi no Naku Koro ni</td>\n",
       "      <td id=\"T_84cc0_row5_col1\" class=\"data row5 col1\" >8.170000</td>\n",
       "    </tr>\n",
       "    <tr>\n",
       "      <th id=\"T_84cc0_level0_row6\" class=\"row_heading level0 row6\" >7</th>\n",
       "      <td id=\"T_84cc0_row6_col0\" class=\"data row6 col0\" >Shigofumi</td>\n",
       "      <td id=\"T_84cc0_row6_col1\" class=\"data row6 col1\" >7.620000</td>\n",
       "    </tr>\n",
       "    <tr>\n",
       "      <th id=\"T_84cc0_level0_row7\" class=\"row_heading level0 row7\" >8</th>\n",
       "      <td id=\"T_84cc0_row7_col0\" class=\"data row7 col0\" >Himitsu: The Revelation</td>\n",
       "      <td id=\"T_84cc0_row7_col1\" class=\"data row7 col1\" >7.420000</td>\n",
       "    </tr>\n",
       "    <tr>\n",
       "      <th id=\"T_84cc0_level0_row8\" class=\"row_heading level0 row8\" >9</th>\n",
       "      <td id=\"T_84cc0_row8_col0\" class=\"data row8 col0\" >Monster</td>\n",
       "      <td id=\"T_84cc0_row8_col1\" class=\"data row8 col1\" >8.720000</td>\n",
       "    </tr>\n",
       "    <tr>\n",
       "      <th id=\"T_84cc0_level0_row9\" class=\"row_heading level0 row9\" >10</th>\n",
       "      <td id=\"T_84cc0_row9_col0\" class=\"data row9 col0\" >Hikari to Mizu no Daphne</td>\n",
       "      <td id=\"T_84cc0_row9_col1\" class=\"data row9 col1\" >6.870000</td>\n",
       "    </tr>\n",
       "  </tbody>\n",
       "</table>\n"
      ],
      "text/plain": [
       "<pandas.io.formats.style.Styler at 0x1d0117b9d30>"
      ]
     },
     "execution_count": 55,
     "metadata": {},
     "output_type": "execute_result"
    }
   ],
   "source": [
    "give_recommendation(\"Death Note\")"
   ]
  },
  {
   "cell_type": "code",
   "execution_count": 56,
   "id": "8c5ebc03",
   "metadata": {},
   "outputs": [
    {
     "name": "stdout",
     "output_type": "stream",
     "text": [
      "Recommendations for Naruto viewers:\n",
      "\n"
     ]
    },
    {
     "data": {
      "text/html": [
       "<style type=\"text/css\">\n",
       "#T_491d2_row0_col0, #T_491d2_row0_col1, #T_491d2_row1_col0, #T_491d2_row1_col1, #T_491d2_row2_col0, #T_491d2_row2_col1, #T_491d2_row3_col0, #T_491d2_row3_col1, #T_491d2_row4_col0, #T_491d2_row4_col1, #T_491d2_row5_col0, #T_491d2_row5_col1, #T_491d2_row6_col0, #T_491d2_row6_col1, #T_491d2_row7_col0, #T_491d2_row7_col1, #T_491d2_row8_col0, #T_491d2_row8_col1, #T_491d2_row9_col0, #T_491d2_row9_col1 {\n",
       "  color: black;\n",
       "  border: 1.5px solid black;\n",
       "}\n",
       "</style>\n",
       "<table id=\"T_491d2\">\n",
       "  <thead>\n",
       "    <tr>\n",
       "      <th class=\"blank level0\" >&nbsp;</th>\n",
       "      <th id=\"T_491d2_level0_col0\" class=\"col_heading level0 col0\" >Anime Name</th>\n",
       "      <th id=\"T_491d2_level0_col1\" class=\"col_heading level0 col1\" >Rating</th>\n",
       "    </tr>\n",
       "    <tr>\n",
       "      <th class=\"index_name level0\" >No</th>\n",
       "      <th class=\"blank col0\" >&nbsp;</th>\n",
       "      <th class=\"blank col1\" >&nbsp;</th>\n",
       "    </tr>\n",
       "  </thead>\n",
       "  <tbody>\n",
       "    <tr>\n",
       "      <th id=\"T_491d2_level0_row0\" class=\"row_heading level0 row0\" >1</th>\n",
       "      <td id=\"T_491d2_row0_col0\" class=\"data row0 col0\" >Naruto</td>\n",
       "      <td id=\"T_491d2_row0_col1\" class=\"data row0 col1\" >7.810000</td>\n",
       "    </tr>\n",
       "    <tr>\n",
       "      <th id=\"T_491d2_level0_row1\" class=\"row_heading level0 row1\" >2</th>\n",
       "      <td id=\"T_491d2_row1_col0\" class=\"data row1 col0\" >Boruto: Naruto the Movie - Naruto ga Hokage ni Natta Hi</td>\n",
       "      <td id=\"T_491d2_row1_col1\" class=\"data row1 col1\" >7.680000</td>\n",
       "    </tr>\n",
       "    <tr>\n",
       "      <th id=\"T_491d2_level0_row2\" class=\"row_heading level0 row2\" >3</th>\n",
       "      <td id=\"T_491d2_row2_col0\" class=\"data row2 col0\" >Naruto x UT</td>\n",
       "      <td id=\"T_491d2_row2_col1\" class=\"data row2 col1\" >7.580000</td>\n",
       "    </tr>\n",
       "    <tr>\n",
       "      <th id=\"T_491d2_level0_row3\" class=\"row_heading level0 row3\" >4</th>\n",
       "      <td id=\"T_491d2_row3_col0\" class=\"data row3 col0\" >Naruto: Shippuuden Movie 4 - The Lost Tower</td>\n",
       "      <td id=\"T_491d2_row3_col1\" class=\"data row3 col1\" >7.530000</td>\n",
       "    </tr>\n",
       "    <tr>\n",
       "      <th id=\"T_491d2_level0_row4\" class=\"row_heading level0 row4\" >5</th>\n",
       "      <td id=\"T_491d2_row4_col0\" class=\"data row4 col0\" >Naruto: Shippuuden Movie 3 - Hi no Ishi wo Tsugu Mono</td>\n",
       "      <td id=\"T_491d2_row4_col1\" class=\"data row4 col1\" >7.500000</td>\n",
       "    </tr>\n",
       "    <tr>\n",
       "      <th id=\"T_491d2_level0_row5\" class=\"row_heading level0 row5\" >6</th>\n",
       "      <td id=\"T_491d2_row5_col0\" class=\"data row5 col0\" >Naruto Shippuuden: Sunny Side Battle</td>\n",
       "      <td id=\"T_491d2_row5_col1\" class=\"data row5 col1\" >7.260000</td>\n",
       "    </tr>\n",
       "    <tr>\n",
       "      <th id=\"T_491d2_level0_row6\" class=\"row_heading level0 row6\" >7</th>\n",
       "      <td id=\"T_491d2_row6_col0\" class=\"data row6 col0\" >Naruto Soyokazeden Movie: Naruto to Mashin to Mitsu no Onegai Dattebayo!!</td>\n",
       "      <td id=\"T_491d2_row6_col1\" class=\"data row6 col1\" >7.110000</td>\n",
       "    </tr>\n",
       "    <tr>\n",
       "      <th id=\"T_491d2_level0_row7\" class=\"row_heading level0 row7\" >8</th>\n",
       "      <td id=\"T_491d2_row7_col0\" class=\"data row7 col0\" >Battle Spirits: Ryuuko no Ken</td>\n",
       "      <td id=\"T_491d2_row7_col1\" class=\"data row7 col1\" >4.890000</td>\n",
       "    </tr>\n",
       "    <tr>\n",
       "      <th id=\"T_491d2_level0_row8\" class=\"row_heading level0 row8\" >9</th>\n",
       "      <td id=\"T_491d2_row8_col0\" class=\"data row8 col0\" >Kyutai Panic Adventure!</td>\n",
       "      <td id=\"T_491d2_row8_col1\" class=\"data row8 col1\" >5.210000</td>\n",
       "    </tr>\n",
       "    <tr>\n",
       "      <th id=\"T_491d2_level0_row9\" class=\"row_heading level0 row9\" >10</th>\n",
       "      <td id=\"T_491d2_row9_col0\" class=\"data row9 col0\" >Ranma ½: Akumu! Shunmin Kou</td>\n",
       "      <td id=\"T_491d2_row9_col1\" class=\"data row9 col1\" >7.700000</td>\n",
       "    </tr>\n",
       "  </tbody>\n",
       "</table>\n"
      ],
      "text/plain": [
       "<pandas.io.formats.style.Styler at 0x1d0069372b0>"
      ]
     },
     "execution_count": 56,
     "metadata": {},
     "output_type": "execute_result"
    }
   ],
   "source": [
    "give_recommendation(\"Naruto\")"
   ]
  },
  {
   "cell_type": "code",
   "execution_count": 57,
   "id": "0a24558c",
   "metadata": {},
   "outputs": [
    {
     "name": "stdout",
     "output_type": "stream",
     "text": [
      "Recommendations for Monster viewers:\n",
      "\n"
     ]
    },
    {
     "data": {
      "text/html": [
       "<style type=\"text/css\">\n",
       "#T_b23a3_row0_col0, #T_b23a3_row0_col1, #T_b23a3_row1_col0, #T_b23a3_row1_col1, #T_b23a3_row2_col0, #T_b23a3_row2_col1, #T_b23a3_row3_col0, #T_b23a3_row3_col1, #T_b23a3_row4_col0, #T_b23a3_row4_col1, #T_b23a3_row5_col0, #T_b23a3_row5_col1, #T_b23a3_row6_col0, #T_b23a3_row6_col1, #T_b23a3_row7_col0, #T_b23a3_row7_col1, #T_b23a3_row8_col0, #T_b23a3_row8_col1, #T_b23a3_row9_col0, #T_b23a3_row9_col1 {\n",
       "  color: black;\n",
       "  border: 1.5px solid black;\n",
       "}\n",
       "</style>\n",
       "<table id=\"T_b23a3\">\n",
       "  <thead>\n",
       "    <tr>\n",
       "      <th class=\"blank level0\" >&nbsp;</th>\n",
       "      <th id=\"T_b23a3_level0_col0\" class=\"col_heading level0 col0\" >Anime Name</th>\n",
       "      <th id=\"T_b23a3_level0_col1\" class=\"col_heading level0 col1\" >Rating</th>\n",
       "    </tr>\n",
       "    <tr>\n",
       "      <th class=\"index_name level0\" >No</th>\n",
       "      <th class=\"blank col0\" >&nbsp;</th>\n",
       "      <th class=\"blank col1\" >&nbsp;</th>\n",
       "    </tr>\n",
       "  </thead>\n",
       "  <tbody>\n",
       "    <tr>\n",
       "      <th id=\"T_b23a3_level0_row0\" class=\"row_heading level0 row0\" >1</th>\n",
       "      <td id=\"T_b23a3_row0_col0\" class=\"data row0 col0\" >Dwaejiui Wang</td>\n",
       "      <td id=\"T_b23a3_row0_col1\" class=\"data row0 col1\" >7.030000</td>\n",
       "    </tr>\n",
       "    <tr>\n",
       "      <th id=\"T_b23a3_level0_row1\" class=\"row_heading level0 row1\" >2</th>\n",
       "      <td id=\"T_b23a3_row1_col0\" class=\"data row1 col0\" >Gyakkyou Burai Kaiji: Ultimate Survivor</td>\n",
       "      <td id=\"T_b23a3_row1_col1\" class=\"data row1 col1\" >8.330000</td>\n",
       "    </tr>\n",
       "    <tr>\n",
       "      <th id=\"T_b23a3_level0_row2\" class=\"row_heading level0 row2\" >3</th>\n",
       "      <td id=\"T_b23a3_row2_col0\" class=\"data row2 col0\" >Gyakkyou Burai Kaiji: Hakairoku-hen</td>\n",
       "      <td id=\"T_b23a3_row2_col1\" class=\"data row2 col1\" >8.290000</td>\n",
       "    </tr>\n",
       "    <tr>\n",
       "      <th id=\"T_b23a3_level0_row3\" class=\"row_heading level0 row3\" >4</th>\n",
       "      <td id=\"T_b23a3_row3_col0\" class=\"data row3 col0\" >Touhai Densetsu Akagi: Yami ni Maiorita Tensai</td>\n",
       "      <td id=\"T_b23a3_row3_col1\" class=\"data row3 col1\" >8.020000</td>\n",
       "    </tr>\n",
       "    <tr>\n",
       "      <th id=\"T_b23a3_level0_row4\" class=\"row_heading level0 row4\" >5</th>\n",
       "      <td id=\"T_b23a3_row4_col0\" class=\"data row4 col0\" >Aoi Bungaku Series</td>\n",
       "      <td id=\"T_b23a3_row4_col1\" class=\"data row4 col1\" >7.900000</td>\n",
       "    </tr>\n",
       "    <tr>\n",
       "      <th id=\"T_b23a3_level0_row5\" class=\"row_heading level0 row5\" >6</th>\n",
       "      <td id=\"T_b23a3_row5_col0\" class=\"data row5 col0\" >Mayoiga</td>\n",
       "      <td id=\"T_b23a3_row5_col1\" class=\"data row5 col1\" >5.800000</td>\n",
       "    </tr>\n",
       "    <tr>\n",
       "      <th id=\"T_b23a3_level0_row6\" class=\"row_heading level0 row6\" >7</th>\n",
       "      <td id=\"T_b23a3_row6_col0\" class=\"data row6 col0\" >Death Note</td>\n",
       "      <td id=\"T_b23a3_row6_col1\" class=\"data row6 col1\" >8.710000</td>\n",
       "    </tr>\n",
       "    <tr>\n",
       "      <th id=\"T_b23a3_level0_row7\" class=\"row_heading level0 row7\" >8</th>\n",
       "      <td id=\"T_b23a3_row7_col0\" class=\"data row7 col0\" >Death Note Rewrite</td>\n",
       "      <td id=\"T_b23a3_row7_col1\" class=\"data row7 col1\" >7.840000</td>\n",
       "    </tr>\n",
       "    <tr>\n",
       "      <th id=\"T_b23a3_level0_row8\" class=\"row_heading level0 row8\" >9</th>\n",
       "      <td id=\"T_b23a3_row8_col0\" class=\"data row8 col0\" >Monster Extra</td>\n",
       "      <td id=\"T_b23a3_row8_col1\" class=\"data row8 col1\" >6.810000</td>\n",
       "    </tr>\n",
       "    <tr>\n",
       "      <th id=\"T_b23a3_level0_row9\" class=\"row_heading level0 row9\" >10</th>\n",
       "      <td id=\"T_b23a3_row9_col0\" class=\"data row9 col0\" >Tokyo Ghoul</td>\n",
       "      <td id=\"T_b23a3_row9_col1\" class=\"data row9 col1\" >8.070000</td>\n",
       "    </tr>\n",
       "  </tbody>\n",
       "</table>\n"
      ],
      "text/plain": [
       "<pandas.io.formats.style.Styler at 0x1d00820bee0>"
      ]
     },
     "execution_count": 57,
     "metadata": {},
     "output_type": "execute_result"
    }
   ],
   "source": [
    "give_recommendation(\"Monster\")"
   ]
  },
  {
   "cell_type": "code",
   "execution_count": 58,
   "id": "38c14423",
   "metadata": {},
   "outputs": [
    {
     "name": "stdout",
     "output_type": "stream",
     "text": [
      "Recommendations for Hunter x Hunter viewers:\n",
      "\n"
     ]
    },
    {
     "data": {
      "text/html": [
       "<style type=\"text/css\">\n",
       "#T_c3b5d_row0_col0, #T_c3b5d_row0_col1, #T_c3b5d_row1_col0, #T_c3b5d_row1_col1, #T_c3b5d_row2_col0, #T_c3b5d_row2_col1, #T_c3b5d_row3_col0, #T_c3b5d_row3_col1, #T_c3b5d_row4_col0, #T_c3b5d_row4_col1, #T_c3b5d_row5_col0, #T_c3b5d_row5_col1, #T_c3b5d_row6_col0, #T_c3b5d_row6_col1, #T_c3b5d_row7_col0, #T_c3b5d_row7_col1, #T_c3b5d_row8_col0, #T_c3b5d_row8_col1, #T_c3b5d_row9_col0, #T_c3b5d_row9_col1 {\n",
       "  color: black;\n",
       "  border: 1.5px solid black;\n",
       "}\n",
       "</style>\n",
       "<table id=\"T_c3b5d\">\n",
       "  <thead>\n",
       "    <tr>\n",
       "      <th class=\"blank level0\" >&nbsp;</th>\n",
       "      <th id=\"T_c3b5d_level0_col0\" class=\"col_heading level0 col0\" >Anime Name</th>\n",
       "      <th id=\"T_c3b5d_level0_col1\" class=\"col_heading level0 col1\" >Rating</th>\n",
       "    </tr>\n",
       "    <tr>\n",
       "      <th class=\"index_name level0\" >No</th>\n",
       "      <th class=\"blank col0\" >&nbsp;</th>\n",
       "      <th class=\"blank col1\" >&nbsp;</th>\n",
       "    </tr>\n",
       "  </thead>\n",
       "  <tbody>\n",
       "    <tr>\n",
       "      <th id=\"T_c3b5d_level0_row0\" class=\"row_heading level0 row0\" >1</th>\n",
       "      <td id=\"T_c3b5d_row0_col0\" class=\"data row0 col0\" >Hunter x Hunter</td>\n",
       "      <td id=\"T_c3b5d_row0_col1\" class=\"data row0 col1\" >8.480000</td>\n",
       "    </tr>\n",
       "    <tr>\n",
       "      <th id=\"T_c3b5d_level0_row1\" class=\"row_heading level0 row1\" >2</th>\n",
       "      <td id=\"T_c3b5d_row1_col0\" class=\"data row1 col0\" >Hunter x Hunter OVA</td>\n",
       "      <td id=\"T_c3b5d_row1_col1\" class=\"data row1 col1\" >8.410000</td>\n",
       "    </tr>\n",
       "    <tr>\n",
       "      <th id=\"T_c3b5d_level0_row2\" class=\"row_heading level0 row2\" >3</th>\n",
       "      <td id=\"T_c3b5d_row2_col0\" class=\"data row2 col0\" >Hunter x Hunter: Greed Island Final</td>\n",
       "      <td id=\"T_c3b5d_row2_col1\" class=\"data row2 col1\" >8.410000</td>\n",
       "    </tr>\n",
       "    <tr>\n",
       "      <th id=\"T_c3b5d_level0_row3\" class=\"row_heading level0 row3\" >4</th>\n",
       "      <td id=\"T_c3b5d_row3_col0\" class=\"data row3 col0\" >Hunter x Hunter: Greed Island</td>\n",
       "      <td id=\"T_c3b5d_row3_col1\" class=\"data row3 col1\" >8.330000</td>\n",
       "    </tr>\n",
       "    <tr>\n",
       "      <th id=\"T_c3b5d_level0_row4\" class=\"row_heading level0 row4\" >5</th>\n",
       "      <td id=\"T_c3b5d_row4_col0\" class=\"data row4 col0\" >Hunter x Hunter Movie: Phantom Rouge</td>\n",
       "      <td id=\"T_c3b5d_row4_col1\" class=\"data row4 col1\" >7.390000</td>\n",
       "    </tr>\n",
       "    <tr>\n",
       "      <th id=\"T_c3b5d_level0_row5\" class=\"row_heading level0 row5\" >6</th>\n",
       "      <td id=\"T_c3b5d_row5_col0\" class=\"data row5 col0\" >Hunter x Hunter Pilot</td>\n",
       "      <td id=\"T_c3b5d_row5_col1\" class=\"data row5 col1\" >7.370000</td>\n",
       "    </tr>\n",
       "    <tr>\n",
       "      <th id=\"T_c3b5d_level0_row6\" class=\"row_heading level0 row6\" >7</th>\n",
       "      <td id=\"T_c3b5d_row6_col0\" class=\"data row6 col0\" >Hunter x Hunter Movie: The Last Mission</td>\n",
       "      <td id=\"T_c3b5d_row6_col1\" class=\"data row6 col1\" >7.350000</td>\n",
       "    </tr>\n",
       "    <tr>\n",
       "      <th id=\"T_c3b5d_level0_row7\" class=\"row_heading level0 row7\" >8</th>\n",
       "      <td id=\"T_c3b5d_row7_col0\" class=\"data row7 col0\" >Nano Invaders</td>\n",
       "      <td id=\"T_c3b5d_row7_col1\" class=\"data row7 col1\" >7.080000</td>\n",
       "    </tr>\n",
       "    <tr>\n",
       "      <th id=\"T_c3b5d_level0_row8\" class=\"row_heading level0 row8\" >9</th>\n",
       "      <td id=\"T_c3b5d_row8_col0\" class=\"data row8 col0\" >Taegeugsonyeon Huin Dogsuli</td>\n",
       "      <td id=\"T_c3b5d_row8_col1\" class=\"data row8 col1\" >3.790000</td>\n",
       "    </tr>\n",
       "    <tr>\n",
       "      <th id=\"T_c3b5d_level0_row9\" class=\"row_heading level0 row9\" >10</th>\n",
       "      <td id=\"T_c3b5d_row9_col0\" class=\"data row9 col0\" >Noragami Aragoto OVA</td>\n",
       "      <td id=\"T_c3b5d_row9_col1\" class=\"data row9 col1\" >8.120000</td>\n",
       "    </tr>\n",
       "  </tbody>\n",
       "</table>\n"
      ],
      "text/plain": [
       "<pandas.io.formats.style.Styler at 0x1d006820490>"
      ]
     },
     "execution_count": 58,
     "metadata": {},
     "output_type": "execute_result"
    }
   ],
   "source": [
    "give_recommendation(\"Hunter x Hunter\")"
   ]
  },
  {
   "cell_type": "code",
   "execution_count": 59,
   "id": "f8de828b",
   "metadata": {},
   "outputs": [
    {
     "name": "stdout",
     "output_type": "stream",
     "text": [
      "Recommendations for One Piece Film: Strong World viewers:\n",
      "\n"
     ]
    },
    {
     "data": {
      "text/html": [
       "<style type=\"text/css\">\n",
       "#T_e0144_row0_col0, #T_e0144_row0_col1, #T_e0144_row1_col0, #T_e0144_row1_col1, #T_e0144_row2_col0, #T_e0144_row2_col1, #T_e0144_row3_col0, #T_e0144_row3_col1, #T_e0144_row4_col0, #T_e0144_row4_col1, #T_e0144_row5_col0, #T_e0144_row5_col1, #T_e0144_row6_col0, #T_e0144_row6_col1, #T_e0144_row7_col0, #T_e0144_row7_col1, #T_e0144_row8_col0, #T_e0144_row8_col1, #T_e0144_row9_col0, #T_e0144_row9_col1 {\n",
       "  color: black;\n",
       "  border: 1.5px solid black;\n",
       "}\n",
       "</style>\n",
       "<table id=\"T_e0144\">\n",
       "  <thead>\n",
       "    <tr>\n",
       "      <th class=\"blank level0\" >&nbsp;</th>\n",
       "      <th id=\"T_e0144_level0_col0\" class=\"col_heading level0 col0\" >Anime Name</th>\n",
       "      <th id=\"T_e0144_level0_col1\" class=\"col_heading level0 col1\" >Rating</th>\n",
       "    </tr>\n",
       "    <tr>\n",
       "      <th class=\"index_name level0\" >No</th>\n",
       "      <th class=\"blank col0\" >&nbsp;</th>\n",
       "      <th class=\"blank col1\" >&nbsp;</th>\n",
       "    </tr>\n",
       "  </thead>\n",
       "  <tbody>\n",
       "    <tr>\n",
       "      <th id=\"T_e0144_level0_row0\" class=\"row_heading level0 row0\" >1</th>\n",
       "      <td id=\"T_e0144_row0_col0\" class=\"data row0 col0\" >One Piece Film: Z</td>\n",
       "      <td id=\"T_e0144_row0_col1\" class=\"data row0 col1\" >8.390000</td>\n",
       "    </tr>\n",
       "    <tr>\n",
       "      <th id=\"T_e0144_level0_row1\" class=\"row_heading level0 row1\" >2</th>\n",
       "      <td id=\"T_e0144_row1_col0\" class=\"data row1 col0\" >One Piece Film: Gold</td>\n",
       "      <td id=\"T_e0144_row1_col1\" class=\"data row1 col1\" >8.320000</td>\n",
       "    </tr>\n",
       "    <tr>\n",
       "      <th id=\"T_e0144_level0_row2\" class=\"row_heading level0 row2\" >3</th>\n",
       "      <td id=\"T_e0144_row2_col0\" class=\"data row2 col0\" >One Piece: Heart of Gold</td>\n",
       "      <td id=\"T_e0144_row2_col1\" class=\"data row2 col1\" >7.750000</td>\n",
       "    </tr>\n",
       "    <tr>\n",
       "      <th id=\"T_e0144_level0_row3\" class=\"row_heading level0 row3\" >4</th>\n",
       "      <td id=\"T_e0144_row3_col0\" class=\"data row3 col0\" >Digimon Frontier</td>\n",
       "      <td id=\"T_e0144_row3_col1\" class=\"data row3 col1\" >7.250000</td>\n",
       "    </tr>\n",
       "    <tr>\n",
       "      <th id=\"T_e0144_level0_row4\" class=\"row_heading level0 row4\" >5</th>\n",
       "      <td id=\"T_e0144_row4_col0\" class=\"data row4 col0\" >Digimon Tamers</td>\n",
       "      <td id=\"T_e0144_row4_col1\" class=\"data row4 col1\" >7.650000</td>\n",
       "    </tr>\n",
       "    <tr>\n",
       "      <th id=\"T_e0144_level0_row5\" class=\"row_heading level0 row5\" >6</th>\n",
       "      <td id=\"T_e0144_row5_col0\" class=\"data row5 col0\" >Digimon Savers</td>\n",
       "      <td id=\"T_e0144_row5_col1\" class=\"data row5 col1\" >7.100000</td>\n",
       "    </tr>\n",
       "    <tr>\n",
       "      <th id=\"T_e0144_level0_row6\" class=\"row_heading level0 row6\" >7</th>\n",
       "      <td id=\"T_e0144_row6_col0\" class=\"data row6 col0\" >Digimon Frontier: Ornismon Fukkatsu!!</td>\n",
       "      <td id=\"T_e0144_row6_col1\" class=\"data row6 col1\" >7.020000</td>\n",
       "    </tr>\n",
       "    <tr>\n",
       "      <th id=\"T_e0144_level0_row7\" class=\"row_heading level0 row7\" >8</th>\n",
       "      <td id=\"T_e0144_row7_col0\" class=\"data row7 col0\" >One Piece: Episode of Merry - Mou Hitori no Nakama no Monogatari</td>\n",
       "      <td id=\"T_e0144_row7_col1\" class=\"data row7 col1\" >8.290000</td>\n",
       "    </tr>\n",
       "    <tr>\n",
       "      <th id=\"T_e0144_level0_row8\" class=\"row_heading level0 row8\" >9</th>\n",
       "      <td id=\"T_e0144_row8_col0\" class=\"data row8 col0\" >One Piece: Episode of Nami - Koukaishi no Namida to Nakama no Kizuna</td>\n",
       "      <td id=\"T_e0144_row8_col1\" class=\"data row8 col1\" >8.270000</td>\n",
       "    </tr>\n",
       "    <tr>\n",
       "      <th id=\"T_e0144_level0_row9\" class=\"row_heading level0 row9\" >10</th>\n",
       "      <td id=\"T_e0144_row9_col0\" class=\"data row9 col0\" >One Piece: Episode of Sabo - 3 Kyoudai no Kizuna Kiseki no Saikai to Uketsugareru Ishi</td>\n",
       "      <td id=\"T_e0144_row9_col1\" class=\"data row9 col1\" >7.780000</td>\n",
       "    </tr>\n",
       "  </tbody>\n",
       "</table>\n"
      ],
      "text/plain": [
       "<pandas.io.formats.style.Styler at 0x1d008230160>"
      ]
     },
     "execution_count": 59,
     "metadata": {},
     "output_type": "execute_result"
    }
   ],
   "source": [
    "give_recommendation(\"One Piece Film: Strong World\")"
   ]
  },
  {
   "cell_type": "code",
   "execution_count": 60,
   "id": "1a46beca",
   "metadata": {},
   "outputs": [
    {
     "name": "stdout",
     "output_type": "stream",
     "text": [
      "Recommendations for Cowboy Bebop viewers:\n",
      "\n"
     ]
    },
    {
     "data": {
      "text/html": [
       "<style type=\"text/css\">\n",
       "#T_f3a66_row0_col0, #T_f3a66_row0_col1, #T_f3a66_row1_col0, #T_f3a66_row1_col1, #T_f3a66_row2_col0, #T_f3a66_row2_col1, #T_f3a66_row3_col0, #T_f3a66_row3_col1, #T_f3a66_row4_col0, #T_f3a66_row4_col1, #T_f3a66_row5_col0, #T_f3a66_row5_col1, #T_f3a66_row6_col0, #T_f3a66_row6_col1, #T_f3a66_row7_col0, #T_f3a66_row7_col1, #T_f3a66_row8_col0, #T_f3a66_row8_col1, #T_f3a66_row9_col0, #T_f3a66_row9_col1 {\n",
       "  color: black;\n",
       "  border: 1.5px solid black;\n",
       "}\n",
       "</style>\n",
       "<table id=\"T_f3a66\">\n",
       "  <thead>\n",
       "    <tr>\n",
       "      <th class=\"blank level0\" >&nbsp;</th>\n",
       "      <th id=\"T_f3a66_level0_col0\" class=\"col_heading level0 col0\" >Anime Name</th>\n",
       "      <th id=\"T_f3a66_level0_col1\" class=\"col_heading level0 col1\" >Rating</th>\n",
       "    </tr>\n",
       "    <tr>\n",
       "      <th class=\"index_name level0\" >No</th>\n",
       "      <th class=\"blank col0\" >&nbsp;</th>\n",
       "      <th class=\"blank col1\" >&nbsp;</th>\n",
       "    </tr>\n",
       "  </thead>\n",
       "  <tbody>\n",
       "    <tr>\n",
       "      <th id=\"T_f3a66_level0_row0\" class=\"row_heading level0 row0\" >1</th>\n",
       "      <td id=\"T_f3a66_row0_col0\" class=\"data row0 col0\" >Cowboy Bebop: Yose Atsume Blues</td>\n",
       "      <td id=\"T_f3a66_row0_col1\" class=\"data row0 col1\" >7.530000</td>\n",
       "    </tr>\n",
       "    <tr>\n",
       "      <th id=\"T_f3a66_level0_row1\" class=\"row_heading level0 row1\" >2</th>\n",
       "      <td id=\"T_f3a66_row1_col0\" class=\"data row1 col0\" >Kaitei Choutokkyuu: Marine Express</td>\n",
       "      <td id=\"T_f3a66_row1_col1\" class=\"data row1 col1\" >6.370000</td>\n",
       "    </tr>\n",
       "    <tr>\n",
       "      <th id=\"T_f3a66_level0_row2\" class=\"row_heading level0 row2\" >3</th>\n",
       "      <td id=\"T_f3a66_row2_col0\" class=\"data row2 col0\" >Keroro Gunsou Movie 2: Shinkai no Princess de Arimasu!</td>\n",
       "      <td id=\"T_f3a66_row2_col1\" class=\"data row2 col1\" >7.480000</td>\n",
       "    </tr>\n",
       "    <tr>\n",
       "      <th id=\"T_f3a66_level0_row3\" class=\"row_heading level0 row3\" >4</th>\n",
       "      <td id=\"T_f3a66_row3_col0\" class=\"data row3 col0\" >Generator Gawl</td>\n",
       "      <td id=\"T_f3a66_row3_col1\" class=\"data row3 col1\" >7.130000</td>\n",
       "    </tr>\n",
       "    <tr>\n",
       "      <th id=\"T_f3a66_level0_row4\" class=\"row_heading level0 row4\" >5</th>\n",
       "      <td id=\"T_f3a66_row4_col0\" class=\"data row4 col0\" >Mama wa Shougaku 4 Nensei</td>\n",
       "      <td id=\"T_f3a66_row4_col1\" class=\"data row4 col1\" >7.310000</td>\n",
       "    </tr>\n",
       "    <tr>\n",
       "      <th id=\"T_f3a66_level0_row5\" class=\"row_heading level0 row5\" >6</th>\n",
       "      <td id=\"T_f3a66_row5_col0\" class=\"data row5 col0\" >DNA² OVA</td>\n",
       "      <td id=\"T_f3a66_row5_col1\" class=\"data row5 col1\" >6.730000</td>\n",
       "    </tr>\n",
       "    <tr>\n",
       "      <th id=\"T_f3a66_level0_row6\" class=\"row_heading level0 row6\" >7</th>\n",
       "      <td id=\"T_f3a66_row6_col0\" class=\"data row6 col0\" >R.O.D the TV</td>\n",
       "      <td id=\"T_f3a66_row6_col1\" class=\"data row6 col1\" >7.640000</td>\n",
       "    </tr>\n",
       "    <tr>\n",
       "      <th id=\"T_f3a66_level0_row7\" class=\"row_heading level0 row7\" >8</th>\n",
       "      <td id=\"T_f3a66_row7_col0\" class=\"data row7 col0\" >Lost Universe</td>\n",
       "      <td id=\"T_f3a66_row7_col1\" class=\"data row7 col1\" >7.100000</td>\n",
       "    </tr>\n",
       "    <tr>\n",
       "      <th id=\"T_f3a66_level0_row8\" class=\"row_heading level0 row8\" >9</th>\n",
       "      <td id=\"T_f3a66_row8_col0\" class=\"data row8 col0\" >Ginga Tetsudou Monogatari: Wasurerareta Toki no Wakusei</td>\n",
       "      <td id=\"T_f3a66_row8_col1\" class=\"data row8 col1\" >7.010000</td>\n",
       "    </tr>\n",
       "    <tr>\n",
       "      <th id=\"T_f3a66_level0_row9\" class=\"row_heading level0 row9\" >10</th>\n",
       "      <td id=\"T_f3a66_row9_col0\" class=\"data row9 col0\" >Uchuu Koukyoushi Maetel: Ginga Tetsudou 999 Gaiden</td>\n",
       "      <td id=\"T_f3a66_row9_col1\" class=\"data row9 col1\" >6.900000</td>\n",
       "    </tr>\n",
       "  </tbody>\n",
       "</table>\n"
      ],
      "text/plain": [
       "<pandas.io.formats.style.Styler at 0x1d00720b9a0>"
      ]
     },
     "execution_count": 60,
     "metadata": {},
     "output_type": "execute_result"
    }
   ],
   "source": [
    "give_recommendation(\"Cowboy Bebop\")"
   ]
  },
  {
   "cell_type": "code",
   "execution_count": null,
   "id": "b8c8d003",
   "metadata": {},
   "outputs": [],
   "source": []
  }
 ],
 "metadata": {
  "kernelspec": {
   "display_name": "Python 3 (ipykernel)",
   "language": "python",
   "name": "python3"
  },
  "language_info": {
   "codemirror_mode": {
    "name": "ipython",
    "version": 3
   },
   "file_extension": ".py",
   "mimetype": "text/x-python",
   "name": "python",
   "nbconvert_exporter": "python",
   "pygments_lexer": "ipython3",
   "version": "3.9.13"
  }
 },
 "nbformat": 4,
 "nbformat_minor": 5
}
